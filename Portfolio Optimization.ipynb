{
 "cells": [
  {
   "cell_type": "code",
   "execution_count": 1,
   "id": "beb6abe9",
   "metadata": {},
   "outputs": [],
   "source": [
    "import pandas as pd\n",
    "import numpy as np\n",
    "import matplotlib.pyplot as plt\n",
    "%matplotlib inline"
   ]
  },
  {
   "cell_type": "code",
   "execution_count": 2,
   "id": "e9921378",
   "metadata": {},
   "outputs": [],
   "source": [
    "df = pd.read_csv(\"/Users/danielwat/Documents/Python/Coursera/EDHEC/data/Portfolios_Formed_on_ME_monthly_EW.csv\", \n",
    "                 index_col=0, na_values = -99.99)"
   ]
  },
  {
   "cell_type": "code",
   "execution_count": 3,
   "id": "334fffcc",
   "metadata": {},
   "outputs": [
    {
     "data": {
      "text/html": [
       "<div>\n",
       "<style scoped>\n",
       "    .dataframe tbody tr th:only-of-type {\n",
       "        vertical-align: middle;\n",
       "    }\n",
       "\n",
       "    .dataframe tbody tr th {\n",
       "        vertical-align: top;\n",
       "    }\n",
       "\n",
       "    .dataframe thead th {\n",
       "        text-align: right;\n",
       "    }\n",
       "</style>\n",
       "<table border=\"1\" class=\"dataframe\">\n",
       "  <thead>\n",
       "    <tr style=\"text-align: right;\">\n",
       "      <th></th>\n",
       "      <th>&lt;= 0</th>\n",
       "      <th>Lo 30</th>\n",
       "      <th>Med 40</th>\n",
       "      <th>Hi 30</th>\n",
       "      <th>Lo 20</th>\n",
       "      <th>Qnt 2</th>\n",
       "      <th>Qnt 3</th>\n",
       "      <th>Qnt 4</th>\n",
       "      <th>Hi 20</th>\n",
       "      <th>Lo 10</th>\n",
       "      <th>Dec 2</th>\n",
       "      <th>Dec 3</th>\n",
       "      <th>Dec 4</th>\n",
       "      <th>Dec 5</th>\n",
       "      <th>Dec 6</th>\n",
       "      <th>Dec 7</th>\n",
       "      <th>Dec 8</th>\n",
       "      <th>Dec 9</th>\n",
       "      <th>Hi 10</th>\n",
       "    </tr>\n",
       "  </thead>\n",
       "  <tbody>\n",
       "    <tr>\n",
       "      <th>192607</th>\n",
       "      <td>NaN</td>\n",
       "      <td>-0.43</td>\n",
       "      <td>1.52</td>\n",
       "      <td>2.68</td>\n",
       "      <td>-0.57</td>\n",
       "      <td>0.59</td>\n",
       "      <td>1.60</td>\n",
       "      <td>1.47</td>\n",
       "      <td>3.33</td>\n",
       "      <td>-1.45</td>\n",
       "      <td>0.29</td>\n",
       "      <td>-0.15</td>\n",
       "      <td>1.33</td>\n",
       "      <td>1.24</td>\n",
       "      <td>1.98</td>\n",
       "      <td>1.55</td>\n",
       "      <td>1.38</td>\n",
       "      <td>3.38</td>\n",
       "      <td>3.29</td>\n",
       "    </tr>\n",
       "    <tr>\n",
       "      <th>192608</th>\n",
       "      <td>NaN</td>\n",
       "      <td>3.90</td>\n",
       "      <td>3.04</td>\n",
       "      <td>2.09</td>\n",
       "      <td>3.84</td>\n",
       "      <td>3.59</td>\n",
       "      <td>3.71</td>\n",
       "      <td>1.61</td>\n",
       "      <td>2.33</td>\n",
       "      <td>5.12</td>\n",
       "      <td>2.59</td>\n",
       "      <td>4.03</td>\n",
       "      <td>3.15</td>\n",
       "      <td>2.72</td>\n",
       "      <td>4.72</td>\n",
       "      <td>1.60</td>\n",
       "      <td>1.63</td>\n",
       "      <td>0.98</td>\n",
       "      <td>3.70</td>\n",
       "    </tr>\n",
       "    <tr>\n",
       "      <th>192609</th>\n",
       "      <td>NaN</td>\n",
       "      <td>-1.08</td>\n",
       "      <td>-0.54</td>\n",
       "      <td>0.16</td>\n",
       "      <td>-0.48</td>\n",
       "      <td>-1.40</td>\n",
       "      <td>0.00</td>\n",
       "      <td>-0.50</td>\n",
       "      <td>-0.09</td>\n",
       "      <td>0.93</td>\n",
       "      <td>-1.87</td>\n",
       "      <td>-2.27</td>\n",
       "      <td>-0.53</td>\n",
       "      <td>0.07</td>\n",
       "      <td>-0.07</td>\n",
       "      <td>-1.64</td>\n",
       "      <td>0.64</td>\n",
       "      <td>-0.86</td>\n",
       "      <td>0.67</td>\n",
       "    </tr>\n",
       "    <tr>\n",
       "      <th>192610</th>\n",
       "      <td>NaN</td>\n",
       "      <td>-3.32</td>\n",
       "      <td>-3.52</td>\n",
       "      <td>-3.06</td>\n",
       "      <td>-3.29</td>\n",
       "      <td>-4.10</td>\n",
       "      <td>-2.89</td>\n",
       "      <td>-3.36</td>\n",
       "      <td>-2.95</td>\n",
       "      <td>-4.84</td>\n",
       "      <td>-1.77</td>\n",
       "      <td>-3.36</td>\n",
       "      <td>-4.83</td>\n",
       "      <td>-2.98</td>\n",
       "      <td>-2.80</td>\n",
       "      <td>-3.45</td>\n",
       "      <td>-3.27</td>\n",
       "      <td>-3.47</td>\n",
       "      <td>-2.43</td>\n",
       "    </tr>\n",
       "    <tr>\n",
       "      <th>192611</th>\n",
       "      <td>NaN</td>\n",
       "      <td>-0.46</td>\n",
       "      <td>3.82</td>\n",
       "      <td>3.09</td>\n",
       "      <td>-0.55</td>\n",
       "      <td>2.18</td>\n",
       "      <td>3.41</td>\n",
       "      <td>3.39</td>\n",
       "      <td>3.16</td>\n",
       "      <td>-0.78</td>\n",
       "      <td>-0.32</td>\n",
       "      <td>-0.29</td>\n",
       "      <td>4.65</td>\n",
       "      <td>3.24</td>\n",
       "      <td>3.57</td>\n",
       "      <td>3.82</td>\n",
       "      <td>2.95</td>\n",
       "      <td>3.61</td>\n",
       "      <td>2.70</td>\n",
       "    </tr>\n",
       "  </tbody>\n",
       "</table>\n",
       "</div>"
      ],
      "text/plain": [
       "        <= 0  Lo 30  Med 40  Hi 30  Lo 20  Qnt 2  Qnt 3  Qnt 4  Hi 20  Lo 10  \\\n",
       "192607   NaN  -0.43    1.52   2.68  -0.57   0.59   1.60   1.47   3.33  -1.45   \n",
       "192608   NaN   3.90    3.04   2.09   3.84   3.59   3.71   1.61   2.33   5.12   \n",
       "192609   NaN  -1.08   -0.54   0.16  -0.48  -1.40   0.00  -0.50  -0.09   0.93   \n",
       "192610   NaN  -3.32   -3.52  -3.06  -3.29  -4.10  -2.89  -3.36  -2.95  -4.84   \n",
       "192611   NaN  -0.46    3.82   3.09  -0.55   2.18   3.41   3.39   3.16  -0.78   \n",
       "\n",
       "        Dec 2  Dec 3  Dec 4  Dec 5  Dec 6  Dec 7  Dec 8  Dec 9  Hi 10  \n",
       "192607   0.29  -0.15   1.33   1.24   1.98   1.55   1.38   3.38   3.29  \n",
       "192608   2.59   4.03   3.15   2.72   4.72   1.60   1.63   0.98   3.70  \n",
       "192609  -1.87  -2.27  -0.53   0.07  -0.07  -1.64   0.64  -0.86   0.67  \n",
       "192610  -1.77  -3.36  -4.83  -2.98  -2.80  -3.45  -3.27  -3.47  -2.43  \n",
       "192611  -0.32  -0.29   4.65   3.24   3.57   3.82   2.95   3.61   2.70  "
      ]
     },
     "execution_count": 3,
     "metadata": {},
     "output_type": "execute_result"
    }
   ],
   "source": [
    "df.head()"
   ]
  },
  {
   "cell_type": "code",
   "execution_count": 4,
   "id": "1f116ed5",
   "metadata": {},
   "outputs": [],
   "source": [
    "df.index = pd.to_datetime(df.index, format = \"%Y%m\")"
   ]
  },
  {
   "cell_type": "code",
   "execution_count": 5,
   "id": "03342d76",
   "metadata": {},
   "outputs": [],
   "source": [
    "df.index = df.index.to_period(\"M\")"
   ]
  },
  {
   "cell_type": "code",
   "execution_count": 6,
   "id": "2953a568",
   "metadata": {},
   "outputs": [
    {
     "data": {
      "text/html": [
       "<div>\n",
       "<style scoped>\n",
       "    .dataframe tbody tr th:only-of-type {\n",
       "        vertical-align: middle;\n",
       "    }\n",
       "\n",
       "    .dataframe tbody tr th {\n",
       "        vertical-align: top;\n",
       "    }\n",
       "\n",
       "    .dataframe thead th {\n",
       "        text-align: right;\n",
       "    }\n",
       "</style>\n",
       "<table border=\"1\" class=\"dataframe\">\n",
       "  <thead>\n",
       "    <tr style=\"text-align: right;\">\n",
       "      <th></th>\n",
       "      <th>&lt;= 0</th>\n",
       "      <th>Lo 30</th>\n",
       "      <th>Med 40</th>\n",
       "      <th>Hi 30</th>\n",
       "      <th>Lo 20</th>\n",
       "      <th>Qnt 2</th>\n",
       "      <th>Qnt 3</th>\n",
       "      <th>Qnt 4</th>\n",
       "      <th>Hi 20</th>\n",
       "      <th>Lo 10</th>\n",
       "      <th>Dec 2</th>\n",
       "      <th>Dec 3</th>\n",
       "      <th>Dec 4</th>\n",
       "      <th>Dec 5</th>\n",
       "      <th>Dec 6</th>\n",
       "      <th>Dec 7</th>\n",
       "      <th>Dec 8</th>\n",
       "      <th>Dec 9</th>\n",
       "      <th>Hi 10</th>\n",
       "    </tr>\n",
       "  </thead>\n",
       "  <tbody>\n",
       "    <tr>\n",
       "      <th>1926-07</th>\n",
       "      <td>NaN</td>\n",
       "      <td>-0.43</td>\n",
       "      <td>1.52</td>\n",
       "      <td>2.68</td>\n",
       "      <td>-0.57</td>\n",
       "      <td>0.59</td>\n",
       "      <td>1.60</td>\n",
       "      <td>1.47</td>\n",
       "      <td>3.33</td>\n",
       "      <td>-1.45</td>\n",
       "      <td>0.29</td>\n",
       "      <td>-0.15</td>\n",
       "      <td>1.33</td>\n",
       "      <td>1.24</td>\n",
       "      <td>1.98</td>\n",
       "      <td>1.55</td>\n",
       "      <td>1.38</td>\n",
       "      <td>3.38</td>\n",
       "      <td>3.29</td>\n",
       "    </tr>\n",
       "    <tr>\n",
       "      <th>1926-08</th>\n",
       "      <td>NaN</td>\n",
       "      <td>3.90</td>\n",
       "      <td>3.04</td>\n",
       "      <td>2.09</td>\n",
       "      <td>3.84</td>\n",
       "      <td>3.59</td>\n",
       "      <td>3.71</td>\n",
       "      <td>1.61</td>\n",
       "      <td>2.33</td>\n",
       "      <td>5.12</td>\n",
       "      <td>2.59</td>\n",
       "      <td>4.03</td>\n",
       "      <td>3.15</td>\n",
       "      <td>2.72</td>\n",
       "      <td>4.72</td>\n",
       "      <td>1.60</td>\n",
       "      <td>1.63</td>\n",
       "      <td>0.98</td>\n",
       "      <td>3.70</td>\n",
       "    </tr>\n",
       "    <tr>\n",
       "      <th>1926-09</th>\n",
       "      <td>NaN</td>\n",
       "      <td>-1.08</td>\n",
       "      <td>-0.54</td>\n",
       "      <td>0.16</td>\n",
       "      <td>-0.48</td>\n",
       "      <td>-1.40</td>\n",
       "      <td>0.00</td>\n",
       "      <td>-0.50</td>\n",
       "      <td>-0.09</td>\n",
       "      <td>0.93</td>\n",
       "      <td>-1.87</td>\n",
       "      <td>-2.27</td>\n",
       "      <td>-0.53</td>\n",
       "      <td>0.07</td>\n",
       "      <td>-0.07</td>\n",
       "      <td>-1.64</td>\n",
       "      <td>0.64</td>\n",
       "      <td>-0.86</td>\n",
       "      <td>0.67</td>\n",
       "    </tr>\n",
       "    <tr>\n",
       "      <th>1926-10</th>\n",
       "      <td>NaN</td>\n",
       "      <td>-3.32</td>\n",
       "      <td>-3.52</td>\n",
       "      <td>-3.06</td>\n",
       "      <td>-3.29</td>\n",
       "      <td>-4.10</td>\n",
       "      <td>-2.89</td>\n",
       "      <td>-3.36</td>\n",
       "      <td>-2.95</td>\n",
       "      <td>-4.84</td>\n",
       "      <td>-1.77</td>\n",
       "      <td>-3.36</td>\n",
       "      <td>-4.83</td>\n",
       "      <td>-2.98</td>\n",
       "      <td>-2.80</td>\n",
       "      <td>-3.45</td>\n",
       "      <td>-3.27</td>\n",
       "      <td>-3.47</td>\n",
       "      <td>-2.43</td>\n",
       "    </tr>\n",
       "    <tr>\n",
       "      <th>1926-11</th>\n",
       "      <td>NaN</td>\n",
       "      <td>-0.46</td>\n",
       "      <td>3.82</td>\n",
       "      <td>3.09</td>\n",
       "      <td>-0.55</td>\n",
       "      <td>2.18</td>\n",
       "      <td>3.41</td>\n",
       "      <td>3.39</td>\n",
       "      <td>3.16</td>\n",
       "      <td>-0.78</td>\n",
       "      <td>-0.32</td>\n",
       "      <td>-0.29</td>\n",
       "      <td>4.65</td>\n",
       "      <td>3.24</td>\n",
       "      <td>3.57</td>\n",
       "      <td>3.82</td>\n",
       "      <td>2.95</td>\n",
       "      <td>3.61</td>\n",
       "      <td>2.70</td>\n",
       "    </tr>\n",
       "  </tbody>\n",
       "</table>\n",
       "</div>"
      ],
      "text/plain": [
       "         <= 0  Lo 30  Med 40  Hi 30  Lo 20  Qnt 2  Qnt 3  Qnt 4  Hi 20  Lo 10  \\\n",
       "1926-07   NaN  -0.43    1.52   2.68  -0.57   0.59   1.60   1.47   3.33  -1.45   \n",
       "1926-08   NaN   3.90    3.04   2.09   3.84   3.59   3.71   1.61   2.33   5.12   \n",
       "1926-09   NaN  -1.08   -0.54   0.16  -0.48  -1.40   0.00  -0.50  -0.09   0.93   \n",
       "1926-10   NaN  -3.32   -3.52  -3.06  -3.29  -4.10  -2.89  -3.36  -2.95  -4.84   \n",
       "1926-11   NaN  -0.46    3.82   3.09  -0.55   2.18   3.41   3.39   3.16  -0.78   \n",
       "\n",
       "         Dec 2  Dec 3  Dec 4  Dec 5  Dec 6  Dec 7  Dec 8  Dec 9  Hi 10  \n",
       "1926-07   0.29  -0.15   1.33   1.24   1.98   1.55   1.38   3.38   3.29  \n",
       "1926-08   2.59   4.03   3.15   2.72   4.72   1.60   1.63   0.98   3.70  \n",
       "1926-09  -1.87  -2.27  -0.53   0.07  -0.07  -1.64   0.64  -0.86   0.67  \n",
       "1926-10  -1.77  -3.36  -4.83  -2.98  -2.80  -3.45  -3.27  -3.47  -2.43  \n",
       "1926-11  -0.32  -0.29   4.65   3.24   3.57   3.82   2.95   3.61   2.70  "
      ]
     },
     "execution_count": 6,
     "metadata": {},
     "output_type": "execute_result"
    }
   ],
   "source": [
    "df.head()"
   ]
  },
  {
   "cell_type": "code",
   "execution_count": 7,
   "id": "d91162b7",
   "metadata": {},
   "outputs": [],
   "source": [
    "returns = df[[\"Lo 20\",\"Hi 20\"]]"
   ]
  },
  {
   "cell_type": "code",
   "execution_count": 8,
   "id": "568b51a8",
   "metadata": {},
   "outputs": [],
   "source": [
    "returns = returns/100"
   ]
  },
  {
   "cell_type": "code",
   "execution_count": 9,
   "id": "11d238f9",
   "metadata": {
    "scrolled": false
   },
   "outputs": [
    {
     "data": {
      "text/html": [
       "<div>\n",
       "<style scoped>\n",
       "    .dataframe tbody tr th:only-of-type {\n",
       "        vertical-align: middle;\n",
       "    }\n",
       "\n",
       "    .dataframe tbody tr th {\n",
       "        vertical-align: top;\n",
       "    }\n",
       "\n",
       "    .dataframe thead th {\n",
       "        text-align: right;\n",
       "    }\n",
       "</style>\n",
       "<table border=\"1\" class=\"dataframe\">\n",
       "  <thead>\n",
       "    <tr style=\"text-align: right;\">\n",
       "      <th></th>\n",
       "      <th>Lo 20</th>\n",
       "      <th>Hi 20</th>\n",
       "    </tr>\n",
       "  </thead>\n",
       "  <tbody>\n",
       "    <tr>\n",
       "      <th>1926-07</th>\n",
       "      <td>-0.005700</td>\n",
       "      <td>0.033300</td>\n",
       "    </tr>\n",
       "    <tr>\n",
       "      <th>1926-08</th>\n",
       "      <td>0.032481</td>\n",
       "      <td>0.057376</td>\n",
       "    </tr>\n",
       "    <tr>\n",
       "      <th>1926-09</th>\n",
       "      <td>0.027525</td>\n",
       "      <td>0.056424</td>\n",
       "    </tr>\n",
       "    <tr>\n",
       "      <th>1926-10</th>\n",
       "      <td>-0.006280</td>\n",
       "      <td>0.025260</td>\n",
       "    </tr>\n",
       "    <tr>\n",
       "      <th>1926-11</th>\n",
       "      <td>-0.011746</td>\n",
       "      <td>0.057658</td>\n",
       "    </tr>\n",
       "    <tr>\n",
       "      <th>...</th>\n",
       "      <td>...</td>\n",
       "      <td>...</td>\n",
       "    </tr>\n",
       "    <tr>\n",
       "      <th>2018-08</th>\n",
       "      <td>664399.279434</td>\n",
       "      <td>6878.227241</td>\n",
       "    </tr>\n",
       "    <tr>\n",
       "      <th>2018-09</th>\n",
       "      <td>650845.513734</td>\n",
       "      <td>6891.297773</td>\n",
       "    </tr>\n",
       "    <tr>\n",
       "      <th>2018-10</th>\n",
       "      <td>582376.460489</td>\n",
       "      <td>6380.578508</td>\n",
       "    </tr>\n",
       "    <tr>\n",
       "      <th>2018-11</th>\n",
       "      <td>566186.367087</td>\n",
       "      <td>6539.479813</td>\n",
       "    </tr>\n",
       "    <tr>\n",
       "      <th>2018-12</th>\n",
       "      <td>482560.492968</td>\n",
       "      <td>5937.101622</td>\n",
       "    </tr>\n",
       "  </tbody>\n",
       "</table>\n",
       "<p>1110 rows × 2 columns</p>\n",
       "</div>"
      ],
      "text/plain": [
       "                 Lo 20        Hi 20\n",
       "1926-07      -0.005700     0.033300\n",
       "1926-08       0.032481     0.057376\n",
       "1926-09       0.027525     0.056424\n",
       "1926-10      -0.006280     0.025260\n",
       "1926-11      -0.011746     0.057658\n",
       "...                ...          ...\n",
       "2018-08  664399.279434  6878.227241\n",
       "2018-09  650845.513734  6891.297773\n",
       "2018-10  582376.460489  6380.578508\n",
       "2018-11  566186.367087  6539.479813\n",
       "2018-12  482560.492968  5937.101622\n",
       "\n",
       "[1110 rows x 2 columns]"
      ]
     },
     "execution_count": 9,
     "metadata": {},
     "output_type": "execute_result"
    }
   ],
   "source": [
    "totalreturn = ((returns+1).cumprod())-1\n",
    "totalreturn"
   ]
  },
  {
   "cell_type": "code",
   "execution_count": 10,
   "id": "b2eb9a4a",
   "metadata": {},
   "outputs": [
    {
     "data": {
      "text/plain": [
       "482560.4929684381"
      ]
     },
     "execution_count": 10,
     "metadata": {},
     "output_type": "execute_result"
    }
   ],
   "source": [
    "(returns[\"Lo 20\"]+1).prod()-1"
   ]
  },
  {
   "cell_type": "code",
   "execution_count": 11,
   "id": "546a58b5",
   "metadata": {},
   "outputs": [
    {
     "data": {
      "text/plain": [
       "<AxesSubplot:>"
      ]
     },
     "execution_count": 11,
     "metadata": {},
     "output_type": "execute_result"
    },
    {
     "data": {
      "image/png": "[encoded data removed]",
      "text/plain": [
       "<Figure size 432x288 with 1 Axes>"
      ]
     },
     "metadata": {
      "needs_background": "light"
     },
     "output_type": "display_data"
    }
   ],
   "source": [
    "returns.plot()"
   ]
  },
  {
   "cell_type": "code",
   "execution_count": 12,
   "id": "263642d4",
   "metadata": {},
   "outputs": [
    {
     "data": {
      "text/plain": [
       "Lo 20    0.151977\n",
       "Hi 20    0.098490\n",
       "dtype: float64"
      ]
     },
     "execution_count": 12,
     "metadata": {},
     "output_type": "execute_result"
    }
   ],
   "source": [
    "(returns+1).prod()**(12/1110)-1 #annualized return"
   ]
  },
  {
   "cell_type": "code",
   "execution_count": 13,
   "id": "abdef6cf",
   "metadata": {},
   "outputs": [],
   "source": [
    "monthly_volatility = returns.std(ddof=0)"
   ]
  },
  {
   "cell_type": "code",
   "execution_count": 14,
   "id": "1597be21",
   "metadata": {},
   "outputs": [],
   "source": [
    "annual_volatility = monthly_volatility*np.sqrt(12)"
   ]
  },
  {
   "cell_type": "code",
   "execution_count": 15,
   "id": "2184c148",
   "metadata": {},
   "outputs": [
    {
     "data": {
      "text/plain": [
       "Lo 20    0.336550\n",
       "Hi 20    0.195028\n",
       "dtype: float64"
      ]
     },
     "execution_count": 15,
     "metadata": {},
     "output_type": "execute_result"
    }
   ],
   "source": [
    "annual_volatility"
   ]
  },
  {
   "cell_type": "code",
   "execution_count": 16,
   "id": "8b06d931",
   "metadata": {},
   "outputs": [],
   "source": [
    "import seaborn as sn"
   ]
  },
  {
   "cell_type": "code",
   "execution_count": 17,
   "id": "21308bb8",
   "metadata": {},
   "outputs": [],
   "source": [
    "returns9915 = returns.loc[\"1999\":\"2016\"]"
   ]
  },
  {
   "cell_type": "code",
   "execution_count": 18,
   "id": "67b1ab63",
   "metadata": {},
   "outputs": [
    {
     "data": {
      "text/html": [
       "<div>\n",
       "<style scoped>\n",
       "    .dataframe tbody tr th:only-of-type {\n",
       "        vertical-align: middle;\n",
       "    }\n",
       "\n",
       "    .dataframe tbody tr th {\n",
       "        vertical-align: top;\n",
       "    }\n",
       "\n",
       "    .dataframe thead th {\n",
       "        text-align: right;\n",
       "    }\n",
       "</style>\n",
       "<table border=\"1\" class=\"dataframe\">\n",
       "  <thead>\n",
       "    <tr style=\"text-align: right;\">\n",
       "      <th></th>\n",
       "      <th>Lo 20</th>\n",
       "      <th>Hi 20</th>\n",
       "    </tr>\n",
       "  </thead>\n",
       "  <tbody>\n",
       "    <tr>\n",
       "      <th>1999-01</th>\n",
       "      <td>0.1114</td>\n",
       "      <td>0.0153</td>\n",
       "    </tr>\n",
       "    <tr>\n",
       "      <th>1999-02</th>\n",
       "      <td>-0.0399</td>\n",
       "      <td>-0.0172</td>\n",
       "    </tr>\n",
       "    <tr>\n",
       "      <th>1999-03</th>\n",
       "      <td>-0.0308</td>\n",
       "      <td>0.0368</td>\n",
       "    </tr>\n",
       "    <tr>\n",
       "      <th>1999-04</th>\n",
       "      <td>0.0824</td>\n",
       "      <td>0.0679</td>\n",
       "    </tr>\n",
       "    <tr>\n",
       "      <th>1999-05</th>\n",
       "      <td>0.0435</td>\n",
       "      <td>-0.0048</td>\n",
       "    </tr>\n",
       "    <tr>\n",
       "      <th>...</th>\n",
       "      <td>...</td>\n",
       "      <td>...</td>\n",
       "    </tr>\n",
       "    <tr>\n",
       "      <th>2016-08</th>\n",
       "      <td>0.0320</td>\n",
       "      <td>-0.0006</td>\n",
       "    </tr>\n",
       "    <tr>\n",
       "      <th>2016-09</th>\n",
       "      <td>0.0341</td>\n",
       "      <td>0.0043</td>\n",
       "    </tr>\n",
       "    <tr>\n",
       "      <th>2016-10</th>\n",
       "      <td>-0.0702</td>\n",
       "      <td>-0.0220</td>\n",
       "    </tr>\n",
       "    <tr>\n",
       "      <th>2016-11</th>\n",
       "      <td>0.0896</td>\n",
       "      <td>0.0502</td>\n",
       "    </tr>\n",
       "    <tr>\n",
       "      <th>2016-12</th>\n",
       "      <td>0.0233</td>\n",
       "      <td>0.0121</td>\n",
       "    </tr>\n",
       "  </tbody>\n",
       "</table>\n",
       "<p>216 rows × 2 columns</p>\n",
       "</div>"
      ],
      "text/plain": [
       "          Lo 20   Hi 20\n",
       "1999-01  0.1114  0.0153\n",
       "1999-02 -0.0399 -0.0172\n",
       "1999-03 -0.0308  0.0368\n",
       "1999-04  0.0824  0.0679\n",
       "1999-05  0.0435 -0.0048\n",
       "...         ...     ...\n",
       "2016-08  0.0320 -0.0006\n",
       "2016-09  0.0341  0.0043\n",
       "2016-10 -0.0702 -0.0220\n",
       "2016-11  0.0896  0.0502\n",
       "2016-12  0.0233  0.0121\n",
       "\n",
       "[216 rows x 2 columns]"
      ]
     },
     "execution_count": 18,
     "metadata": {},
     "output_type": "execute_result"
    }
   ],
   "source": [
    "returns9915"
   ]
  },
  {
   "cell_type": "code",
   "execution_count": 19,
   "id": "7c7fd486",
   "metadata": {},
   "outputs": [
    {
     "data": {
      "text/plain": [
       "Lo 20    0.065277\n",
       "Hi 20    0.048939\n",
       "dtype: float64"
      ]
     },
     "execution_count": 19,
     "metadata": {},
     "output_type": "execute_result"
    }
   ],
   "source": [
    "returns9915.std(ddof=0)"
   ]
  },
  {
   "cell_type": "code",
   "execution_count": 20,
   "id": "eef1da70",
   "metadata": {},
   "outputs": [
    {
     "data": {
      "text/plain": [
       "Lo 20    0.226126\n",
       "Hi 20    0.169528\n",
       "dtype: float64"
      ]
     },
     "execution_count": 20,
     "metadata": {},
     "output_type": "execute_result"
    }
   ],
   "source": [
    "returns9915.std(ddof=0)*np.sqrt(12) #annual volatility"
   ]
  },
  {
   "cell_type": "code",
   "execution_count": 21,
   "id": "c08f8d01",
   "metadata": {},
   "outputs": [],
   "source": [
    "tr9915 = (returns9915+1).prod()-1"
   ]
  },
  {
   "cell_type": "code",
   "execution_count": 22,
   "id": "8bf4956c",
   "metadata": {},
   "outputs": [
    {
     "data": {
      "text/plain": [
       "Lo 20    6.400131\n",
       "Hi 20    2.201430\n",
       "dtype: float64"
      ]
     },
     "execution_count": 22,
     "metadata": {},
     "output_type": "execute_result"
    }
   ],
   "source": [
    "tr9915"
   ]
  },
  {
   "cell_type": "code",
   "execution_count": 23,
   "id": "779cd403",
   "metadata": {},
   "outputs": [],
   "source": [
    "mr9915 = (tr9915+1)**(1/204)-1"
   ]
  },
  {
   "cell_type": "code",
   "execution_count": 24,
   "id": "e373628a",
   "metadata": {},
   "outputs": [],
   "source": [
    "ar9915 = (mr9915+1)**(12)-1"
   ]
  },
  {
   "cell_type": "code",
   "execution_count": 25,
   "id": "e2447197",
   "metadata": {},
   "outputs": [
    {
     "data": {
      "text/plain": [
       "Lo 20    0.124946\n",
       "Hi 20    0.070844\n",
       "dtype: float64"
      ]
     },
     "execution_count": 25,
     "metadata": {},
     "output_type": "execute_result"
    }
   ],
   "source": [
    "ar9915"
   ]
  },
  {
   "cell_type": "code",
   "execution_count": 26,
   "id": "9f65d5de",
   "metadata": {},
   "outputs": [],
   "source": [
    "wealthlo20 = 1000*(returns9915[\"Lo 20\"]+1).cumprod()\n",
    "wealthlo20 = pd.DataFrame(wealthlo20)"
   ]
  },
  {
   "cell_type": "code",
   "execution_count": 27,
   "id": "938cbb77",
   "metadata": {},
   "outputs": [
    {
     "data": {
      "text/plain": [
       "<AxesSubplot:>"
      ]
     },
     "execution_count": 27,
     "metadata": {},
     "output_type": "execute_result"
    },
    {
     "data": {
      "image/png": "[encoded data removed]",
      "text/plain": [
       "<Figure size 432x288 with 1 Axes>"
      ]
     },
     "metadata": {
      "needs_background": "light"
     },
     "output_type": "display_data"
    }
   ],
   "source": [
    "wealthlo20.plot()"
   ]
  },
  {
   "cell_type": "code",
   "execution_count": 28,
   "id": "b52d5c55",
   "metadata": {},
   "outputs": [],
   "source": [
    "peakslo20 = wealthlo20.cummax()\n",
    "peakslo20 = pd.DataFrame(peakslo20)"
   ]
  },
  {
   "cell_type": "code",
   "execution_count": 29,
   "id": "ee65267d",
   "metadata": {},
   "outputs": [
    {
     "data": {
      "text/plain": [
       "<AxesSubplot:>"
      ]
     },
     "execution_count": 29,
     "metadata": {},
     "output_type": "execute_result"
    },
    {
     "data": {
      "image/png": "[encoded data removed]",
      "text/plain": [
       "<Figure size 432x288 with 1 Axes>"
      ]
     },
     "metadata": {
      "needs_background": "light"
     },
     "output_type": "display_data"
    }
   ],
   "source": [
    "ax = wealthlo20.plot()\n",
    "peakslo20.plot(ax = ax)"
   ]
  },
  {
   "cell_type": "code",
   "execution_count": 30,
   "id": "2ffe7a70",
   "metadata": {},
   "outputs": [],
   "source": [
    "drawdown = (wealthlo20 - peakslo20)/peakslo20"
   ]
  },
  {
   "cell_type": "code",
   "execution_count": 31,
   "id": "e073e4a1",
   "metadata": {},
   "outputs": [
    {
     "data": {
      "text/plain": [
       "<AxesSubplot:>"
      ]
     },
     "execution_count": 31,
     "metadata": {},
     "output_type": "execute_result"
    },
    {
     "data": {
      "image/png": "[encoded data removed]",
      "text/plain": [
       "<Figure size 432x288 with 1 Axes>"
      ]
     },
     "metadata": {
      "needs_background": "light"
     },
     "output_type": "display_data"
    }
   ],
   "source": [
    "drawdown.plot()"
   ]
  },
  {
   "cell_type": "code",
   "execution_count": 32,
   "id": "5fbd26c3",
   "metadata": {},
   "outputs": [
    {
     "data": {
      "text/plain": [
       "Lo 20   -0.624809\n",
       "dtype: float64"
      ]
     },
     "execution_count": 32,
     "metadata": {},
     "output_type": "execute_result"
    }
   ],
   "source": [
    "drawdown.min()"
   ]
  },
  {
   "cell_type": "code",
   "execution_count": 33,
   "id": "05529a1d",
   "metadata": {},
   "outputs": [],
   "source": [
    "wealthhi20 = (returns9915[\"Hi 20\"]+1).cumprod()"
   ]
  },
  {
   "cell_type": "code",
   "execution_count": 34,
   "id": "dba9bac1",
   "metadata": {},
   "outputs": [],
   "source": [
    "peakshi20 = wealthhi20.cummax()"
   ]
  },
  {
   "cell_type": "code",
   "execution_count": 35,
   "id": "ee6e6b3b",
   "metadata": {},
   "outputs": [
    {
     "data": {
      "text/plain": [
       "<AxesSubplot:>"
      ]
     },
     "execution_count": 35,
     "metadata": {},
     "output_type": "execute_result"
    },
    {
     "data": {
      "image/png": "[encoded data removed]",
      "text/plain": [
       "<Figure size 432x288 with 1 Axes>"
      ]
     },
     "metadata": {
      "needs_background": "light"
     },
     "output_type": "display_data"
    }
   ],
   "source": [
    "peakshi20.plot(ax = wealthhi20.plot())"
   ]
  },
  {
   "cell_type": "code",
   "execution_count": 36,
   "id": "19ec4afa",
   "metadata": {},
   "outputs": [],
   "source": [
    "drawdownhi20 = (wealthhi20 - peakshi20)/peakshi20"
   ]
  },
  {
   "cell_type": "code",
   "execution_count": 37,
   "id": "5c88eca8",
   "metadata": {},
   "outputs": [
    {
     "data": {
      "text/plain": [
       "<AxesSubplot:>"
      ]
     },
     "execution_count": 37,
     "metadata": {},
     "output_type": "execute_result"
    },
    {
     "data": {
      "image/png": "[encoded data removed]",
      "text/plain": [
       "<Figure size 432x288 with 1 Axes>"
      ]
     },
     "metadata": {
      "needs_background": "light"
     },
     "output_type": "display_data"
    }
   ],
   "source": [
    "drawdownhi20.plot()"
   ]
  },
  {
   "cell_type": "code",
   "execution_count": 38,
   "id": "64145301",
   "metadata": {},
   "outputs": [
    {
     "data": {
      "text/plain": [
       "-0.5527349978713653"
      ]
     },
     "execution_count": 38,
     "metadata": {},
     "output_type": "execute_result"
    }
   ],
   "source": [
    "drawdownhi20.min()"
   ]
  },
  {
   "cell_type": "code",
   "execution_count": 39,
   "id": "95207dbc",
   "metadata": {},
   "outputs": [
    {
     "data": {
      "text/plain": [
       "Period('2009-02', 'M')"
      ]
     },
     "execution_count": 39,
     "metadata": {},
     "output_type": "execute_result"
    }
   ],
   "source": [
    "drawdownhi20.idxmin()"
   ]
  },
  {
   "cell_type": "code",
   "execution_count": 40,
   "id": "f75734c3",
   "metadata": {},
   "outputs": [],
   "source": [
    "hfi = pd.read_csv(\"/Users/danielwat/Documents/Python/Coursera/EDHEC/data/edhec-hedgefundindices.csv\", \n",
    "                 index_col = 0)"
   ]
  },
  {
   "cell_type": "code",
   "execution_count": 41,
   "id": "ff5a2137",
   "metadata": {},
   "outputs": [
    {
     "data": {
      "text/html": [
       "<div>\n",
       "<style scoped>\n",
       "    .dataframe tbody tr th:only-of-type {\n",
       "        vertical-align: middle;\n",
       "    }\n",
       "\n",
       "    .dataframe tbody tr th {\n",
       "        vertical-align: top;\n",
       "    }\n",
       "\n",
       "    .dataframe thead th {\n",
       "        text-align: right;\n",
       "    }\n",
       "</style>\n",
       "<table border=\"1\" class=\"dataframe\">\n",
       "  <thead>\n",
       "    <tr style=\"text-align: right;\">\n",
       "      <th></th>\n",
       "      <th>Convertible Arbitrage</th>\n",
       "      <th>CTA Global</th>\n",
       "      <th>Distressed Securities</th>\n",
       "      <th>Emerging Markets</th>\n",
       "      <th>Equity Market Neutral</th>\n",
       "      <th>Event Driven</th>\n",
       "      <th>Fixed Income Arbitrage</th>\n",
       "      <th>Global Macro</th>\n",
       "      <th>Long/Short Equity</th>\n",
       "      <th>Merger Arbitrage</th>\n",
       "      <th>Relative Value</th>\n",
       "      <th>Short Selling</th>\n",
       "      <th>Funds Of Funds</th>\n",
       "    </tr>\n",
       "    <tr>\n",
       "      <th>date</th>\n",
       "      <th></th>\n",
       "      <th></th>\n",
       "      <th></th>\n",
       "      <th></th>\n",
       "      <th></th>\n",
       "      <th></th>\n",
       "      <th></th>\n",
       "      <th></th>\n",
       "      <th></th>\n",
       "      <th></th>\n",
       "      <th></th>\n",
       "      <th></th>\n",
       "      <th></th>\n",
       "    </tr>\n",
       "  </thead>\n",
       "  <tbody>\n",
       "    <tr>\n",
       "      <th>31/01/1997</th>\n",
       "      <td>1.19</td>\n",
       "      <td>3.93</td>\n",
       "      <td>1.78</td>\n",
       "      <td>7.91</td>\n",
       "      <td>1.89</td>\n",
       "      <td>2.13</td>\n",
       "      <td>1.91</td>\n",
       "      <td>5.73</td>\n",
       "      <td>2.81</td>\n",
       "      <td>1.50</td>\n",
       "      <td>1.80</td>\n",
       "      <td>-1.66</td>\n",
       "      <td>3.17</td>\n",
       "    </tr>\n",
       "    <tr>\n",
       "      <th>28/02/1997</th>\n",
       "      <td>1.23</td>\n",
       "      <td>2.98</td>\n",
       "      <td>1.22</td>\n",
       "      <td>5.25</td>\n",
       "      <td>1.01</td>\n",
       "      <td>0.84</td>\n",
       "      <td>1.22</td>\n",
       "      <td>1.75</td>\n",
       "      <td>-0.06</td>\n",
       "      <td>0.34</td>\n",
       "      <td>1.18</td>\n",
       "      <td>4.26</td>\n",
       "      <td>1.06</td>\n",
       "    </tr>\n",
       "    <tr>\n",
       "      <th>31/03/1997</th>\n",
       "      <td>0.78</td>\n",
       "      <td>-0.21</td>\n",
       "      <td>-0.12</td>\n",
       "      <td>-1.20</td>\n",
       "      <td>0.16</td>\n",
       "      <td>-0.23</td>\n",
       "      <td>1.09</td>\n",
       "      <td>-1.19</td>\n",
       "      <td>-0.84</td>\n",
       "      <td>0.60</td>\n",
       "      <td>0.10</td>\n",
       "      <td>7.78</td>\n",
       "      <td>-0.77</td>\n",
       "    </tr>\n",
       "    <tr>\n",
       "      <th>30/04/1997</th>\n",
       "      <td>0.86</td>\n",
       "      <td>-1.70</td>\n",
       "      <td>0.30</td>\n",
       "      <td>1.19</td>\n",
       "      <td>1.19</td>\n",
       "      <td>-0.05</td>\n",
       "      <td>1.30</td>\n",
       "      <td>1.72</td>\n",
       "      <td>0.84</td>\n",
       "      <td>-0.01</td>\n",
       "      <td>1.22</td>\n",
       "      <td>-1.29</td>\n",
       "      <td>0.09</td>\n",
       "    </tr>\n",
       "    <tr>\n",
       "      <th>31/05/1997</th>\n",
       "      <td>1.56</td>\n",
       "      <td>-0.15</td>\n",
       "      <td>2.33</td>\n",
       "      <td>3.15</td>\n",
       "      <td>1.89</td>\n",
       "      <td>3.46</td>\n",
       "      <td>1.18</td>\n",
       "      <td>1.08</td>\n",
       "      <td>3.94</td>\n",
       "      <td>1.97</td>\n",
       "      <td>1.73</td>\n",
       "      <td>-7.37</td>\n",
       "      <td>2.75</td>\n",
       "    </tr>\n",
       "  </tbody>\n",
       "</table>\n",
       "</div>"
      ],
      "text/plain": [
       "            Convertible Arbitrage  CTA Global  Distressed Securities  \\\n",
       "date                                                                   \n",
       "31/01/1997                   1.19        3.93                   1.78   \n",
       "28/02/1997                   1.23        2.98                   1.22   \n",
       "31/03/1997                   0.78       -0.21                  -0.12   \n",
       "30/04/1997                   0.86       -1.70                   0.30   \n",
       "31/05/1997                   1.56       -0.15                   2.33   \n",
       "\n",
       "            Emerging Markets  Equity Market Neutral  Event Driven  \\\n",
       "date                                                                \n",
       "31/01/1997              7.91                   1.89          2.13   \n",
       "28/02/1997              5.25                   1.01          0.84   \n",
       "31/03/1997             -1.20                   0.16         -0.23   \n",
       "30/04/1997              1.19                   1.19         -0.05   \n",
       "31/05/1997              3.15                   1.89          3.46   \n",
       "\n",
       "            Fixed Income Arbitrage  Global Macro  Long/Short Equity  \\\n",
       "date                                                                  \n",
       "31/01/1997                    1.91          5.73               2.81   \n",
       "28/02/1997                    1.22          1.75              -0.06   \n",
       "31/03/1997                    1.09         -1.19              -0.84   \n",
       "30/04/1997                    1.30          1.72               0.84   \n",
       "31/05/1997                    1.18          1.08               3.94   \n",
       "\n",
       "            Merger Arbitrage  Relative Value  Short Selling  Funds Of Funds  \n",
       "date                                                                         \n",
       "31/01/1997              1.50            1.80          -1.66            3.17  \n",
       "28/02/1997              0.34            1.18           4.26            1.06  \n",
       "31/03/1997              0.60            0.10           7.78           -0.77  \n",
       "30/04/1997             -0.01            1.22          -1.29            0.09  \n",
       "31/05/1997              1.97            1.73          -7.37            2.75  "
      ]
     },
     "execution_count": 41,
     "metadata": {},
     "output_type": "execute_result"
    }
   ],
   "source": [
    "hfi.head()"
   ]
  },
  {
   "cell_type": "code",
   "execution_count": 42,
   "id": "e73fc745",
   "metadata": {},
   "outputs": [],
   "source": [
    "hfi.index = pd.to_datetime(hfi.index, format= \"%d/%m/%Y\")"
   ]
  },
  {
   "cell_type": "code",
   "execution_count": 43,
   "id": "ce1ec34a",
   "metadata": {
    "scrolled": true
   },
   "outputs": [
    {
     "data": {
      "text/html": [
       "<div>\n",
       "<style scoped>\n",
       "    .dataframe tbody tr th:only-of-type {\n",
       "        vertical-align: middle;\n",
       "    }\n",
       "\n",
       "    .dataframe tbody tr th {\n",
       "        vertical-align: top;\n",
       "    }\n",
       "\n",
       "    .dataframe thead th {\n",
       "        text-align: right;\n",
       "    }\n",
       "</style>\n",
       "<table border=\"1\" class=\"dataframe\">\n",
       "  <thead>\n",
       "    <tr style=\"text-align: right;\">\n",
       "      <th></th>\n",
       "      <th>Convertible Arbitrage</th>\n",
       "      <th>CTA Global</th>\n",
       "      <th>Distressed Securities</th>\n",
       "      <th>Emerging Markets</th>\n",
       "      <th>Equity Market Neutral</th>\n",
       "      <th>Event Driven</th>\n",
       "      <th>Fixed Income Arbitrage</th>\n",
       "      <th>Global Macro</th>\n",
       "      <th>Long/Short Equity</th>\n",
       "      <th>Merger Arbitrage</th>\n",
       "      <th>Relative Value</th>\n",
       "      <th>Short Selling</th>\n",
       "      <th>Funds Of Funds</th>\n",
       "    </tr>\n",
       "    <tr>\n",
       "      <th>date</th>\n",
       "      <th></th>\n",
       "      <th></th>\n",
       "      <th></th>\n",
       "      <th></th>\n",
       "      <th></th>\n",
       "      <th></th>\n",
       "      <th></th>\n",
       "      <th></th>\n",
       "      <th></th>\n",
       "      <th></th>\n",
       "      <th></th>\n",
       "      <th></th>\n",
       "      <th></th>\n",
       "    </tr>\n",
       "  </thead>\n",
       "  <tbody>\n",
       "    <tr>\n",
       "      <th>1997-01-31</th>\n",
       "      <td>1.19</td>\n",
       "      <td>3.93</td>\n",
       "      <td>1.78</td>\n",
       "      <td>7.91</td>\n",
       "      <td>1.89</td>\n",
       "      <td>2.13</td>\n",
       "      <td>1.91</td>\n",
       "      <td>5.73</td>\n",
       "      <td>2.81</td>\n",
       "      <td>1.50</td>\n",
       "      <td>1.80</td>\n",
       "      <td>-1.66</td>\n",
       "      <td>3.17</td>\n",
       "    </tr>\n",
       "    <tr>\n",
       "      <th>1997-02-28</th>\n",
       "      <td>1.23</td>\n",
       "      <td>2.98</td>\n",
       "      <td>1.22</td>\n",
       "      <td>5.25</td>\n",
       "      <td>1.01</td>\n",
       "      <td>0.84</td>\n",
       "      <td>1.22</td>\n",
       "      <td>1.75</td>\n",
       "      <td>-0.06</td>\n",
       "      <td>0.34</td>\n",
       "      <td>1.18</td>\n",
       "      <td>4.26</td>\n",
       "      <td>1.06</td>\n",
       "    </tr>\n",
       "    <tr>\n",
       "      <th>1997-03-31</th>\n",
       "      <td>0.78</td>\n",
       "      <td>-0.21</td>\n",
       "      <td>-0.12</td>\n",
       "      <td>-1.20</td>\n",
       "      <td>0.16</td>\n",
       "      <td>-0.23</td>\n",
       "      <td>1.09</td>\n",
       "      <td>-1.19</td>\n",
       "      <td>-0.84</td>\n",
       "      <td>0.60</td>\n",
       "      <td>0.10</td>\n",
       "      <td>7.78</td>\n",
       "      <td>-0.77</td>\n",
       "    </tr>\n",
       "    <tr>\n",
       "      <th>1997-04-30</th>\n",
       "      <td>0.86</td>\n",
       "      <td>-1.70</td>\n",
       "      <td>0.30</td>\n",
       "      <td>1.19</td>\n",
       "      <td>1.19</td>\n",
       "      <td>-0.05</td>\n",
       "      <td>1.30</td>\n",
       "      <td>1.72</td>\n",
       "      <td>0.84</td>\n",
       "      <td>-0.01</td>\n",
       "      <td>1.22</td>\n",
       "      <td>-1.29</td>\n",
       "      <td>0.09</td>\n",
       "    </tr>\n",
       "    <tr>\n",
       "      <th>1997-05-31</th>\n",
       "      <td>1.56</td>\n",
       "      <td>-0.15</td>\n",
       "      <td>2.33</td>\n",
       "      <td>3.15</td>\n",
       "      <td>1.89</td>\n",
       "      <td>3.46</td>\n",
       "      <td>1.18</td>\n",
       "      <td>1.08</td>\n",
       "      <td>3.94</td>\n",
       "      <td>1.97</td>\n",
       "      <td>1.73</td>\n",
       "      <td>-7.37</td>\n",
       "      <td>2.75</td>\n",
       "    </tr>\n",
       "  </tbody>\n",
       "</table>\n",
       "</div>"
      ],
      "text/plain": [
       "            Convertible Arbitrage  CTA Global  Distressed Securities  \\\n",
       "date                                                                   \n",
       "1997-01-31                   1.19        3.93                   1.78   \n",
       "1997-02-28                   1.23        2.98                   1.22   \n",
       "1997-03-31                   0.78       -0.21                  -0.12   \n",
       "1997-04-30                   0.86       -1.70                   0.30   \n",
       "1997-05-31                   1.56       -0.15                   2.33   \n",
       "\n",
       "            Emerging Markets  Equity Market Neutral  Event Driven  \\\n",
       "date                                                                \n",
       "1997-01-31              7.91                   1.89          2.13   \n",
       "1997-02-28              5.25                   1.01          0.84   \n",
       "1997-03-31             -1.20                   0.16         -0.23   \n",
       "1997-04-30              1.19                   1.19         -0.05   \n",
       "1997-05-31              3.15                   1.89          3.46   \n",
       "\n",
       "            Fixed Income Arbitrage  Global Macro  Long/Short Equity  \\\n",
       "date                                                                  \n",
       "1997-01-31                    1.91          5.73               2.81   \n",
       "1997-02-28                    1.22          1.75              -0.06   \n",
       "1997-03-31                    1.09         -1.19              -0.84   \n",
       "1997-04-30                    1.30          1.72               0.84   \n",
       "1997-05-31                    1.18          1.08               3.94   \n",
       "\n",
       "            Merger Arbitrage  Relative Value  Short Selling  Funds Of Funds  \n",
       "date                                                                         \n",
       "1997-01-31              1.50            1.80          -1.66            3.17  \n",
       "1997-02-28              0.34            1.18           4.26            1.06  \n",
       "1997-03-31              0.60            0.10           7.78           -0.77  \n",
       "1997-04-30             -0.01            1.22          -1.29            0.09  \n",
       "1997-05-31              1.97            1.73          -7.37            2.75  "
      ]
     },
     "execution_count": 43,
     "metadata": {},
     "output_type": "execute_result"
    }
   ],
   "source": [
    "hfi.head()"
   ]
  },
  {
   "cell_type": "code",
   "execution_count": 44,
   "id": "3b01e82c",
   "metadata": {},
   "outputs": [],
   "source": [
    "hfi2009 = hfi[\"2009\":]"
   ]
  },
  {
   "cell_type": "code",
   "execution_count": 45,
   "id": "3d6c59b4",
   "metadata": {},
   "outputs": [],
   "source": [
    "hfisemid = hfi2009[hfi2009<0].std(ddof=0)"
   ]
  },
  {
   "cell_type": "code",
   "execution_count": 46,
   "id": "31112d33",
   "metadata": {},
   "outputs": [
    {
     "data": {
      "text/plain": [
       "Convertible Arbitrage     0.668103\n",
       "CTA Global                1.099578\n",
       "Distressed Securities     0.949845\n",
       "Emerging Markets          1.527598\n",
       "Equity Market Neutral     0.518610\n",
       "Event Driven              1.013464\n",
       "Fixed Income Arbitrage    0.332054\n",
       "Global Macro              0.507508\n",
       "Long/Short Equity         1.213857\n",
       "Merger Arbitrage          0.361121\n",
       "Relative Value            0.571123\n",
       "Short Selling             2.124006\n",
       "Funds Of Funds            0.794842\n",
       "dtype: float64"
      ]
     },
     "execution_count": 46,
     "metadata": {},
     "output_type": "execute_result"
    }
   ],
   "source": [
    "hfisemid"
   ]
  },
  {
   "cell_type": "code",
   "execution_count": 47,
   "id": "0e2c4f29",
   "metadata": {},
   "outputs": [
    {
     "data": {
      "text/plain": [
       "'Short Selling'"
      ]
     },
     "execution_count": 47,
     "metadata": {},
     "output_type": "execute_result"
    }
   ],
   "source": [
    "hfisemid.idxmax()"
   ]
  },
  {
   "cell_type": "code",
   "execution_count": 48,
   "id": "0bc5a4cd",
   "metadata": {},
   "outputs": [],
   "source": [
    "import scipy.stats"
   ]
  },
  {
   "cell_type": "code",
   "execution_count": 49,
   "id": "051899fc",
   "metadata": {},
   "outputs": [
    {
     "data": {
      "text/plain": [
       "'Equity Market Neutral'"
      ]
     },
     "execution_count": 49,
     "metadata": {},
     "output_type": "execute_result"
    }
   ],
   "source": [
    "hfi2009.skew().idxmin()"
   ]
  },
  {
   "cell_type": "code",
   "execution_count": 50,
   "id": "fefbc2ab",
   "metadata": {},
   "outputs": [
    {
     "data": {
      "text/html": [
       "<div>\n",
       "<style scoped>\n",
       "    .dataframe tbody tr th:only-of-type {\n",
       "        vertical-align: middle;\n",
       "    }\n",
       "\n",
       "    .dataframe tbody tr th {\n",
       "        vertical-align: top;\n",
       "    }\n",
       "\n",
       "    .dataframe thead th {\n",
       "        text-align: right;\n",
       "    }\n",
       "</style>\n",
       "<table border=\"1\" class=\"dataframe\">\n",
       "  <thead>\n",
       "    <tr style=\"text-align: right;\">\n",
       "      <th></th>\n",
       "      <th>Convertible Arbitrage</th>\n",
       "      <th>CTA Global</th>\n",
       "      <th>Distressed Securities</th>\n",
       "      <th>Emerging Markets</th>\n",
       "      <th>Equity Market Neutral</th>\n",
       "      <th>Event Driven</th>\n",
       "      <th>Fixed Income Arbitrage</th>\n",
       "      <th>Global Macro</th>\n",
       "      <th>Long/Short Equity</th>\n",
       "      <th>Merger Arbitrage</th>\n",
       "      <th>Relative Value</th>\n",
       "      <th>Short Selling</th>\n",
       "      <th>Funds Of Funds</th>\n",
       "    </tr>\n",
       "    <tr>\n",
       "      <th>date</th>\n",
       "      <th></th>\n",
       "      <th></th>\n",
       "      <th></th>\n",
       "      <th></th>\n",
       "      <th></th>\n",
       "      <th></th>\n",
       "      <th></th>\n",
       "      <th></th>\n",
       "      <th></th>\n",
       "      <th></th>\n",
       "      <th></th>\n",
       "      <th></th>\n",
       "      <th></th>\n",
       "    </tr>\n",
       "  </thead>\n",
       "  <tbody>\n",
       "    <tr>\n",
       "      <th>2018-07-31</th>\n",
       "      <td>0.21</td>\n",
       "      <td>-0.58</td>\n",
       "      <td>0.93</td>\n",
       "      <td>0.40</td>\n",
       "      <td>-0.10</td>\n",
       "      <td>0.55</td>\n",
       "      <td>0.22</td>\n",
       "      <td>-0.14</td>\n",
       "      <td>0.67</td>\n",
       "      <td>-0.21</td>\n",
       "      <td>0.45</td>\n",
       "      <td>-0.52</td>\n",
       "      <td>0.18</td>\n",
       "    </tr>\n",
       "    <tr>\n",
       "      <th>2018-08-31</th>\n",
       "      <td>0.24</td>\n",
       "      <td>1.66</td>\n",
       "      <td>0.02</td>\n",
       "      <td>-2.77</td>\n",
       "      <td>0.04</td>\n",
       "      <td>0.11</td>\n",
       "      <td>0.17</td>\n",
       "      <td>-0.07</td>\n",
       "      <td>0.35</td>\n",
       "      <td>0.50</td>\n",
       "      <td>-0.02</td>\n",
       "      <td>-2.14</td>\n",
       "      <td>0.15</td>\n",
       "    </tr>\n",
       "    <tr>\n",
       "      <th>2018-09-30</th>\n",
       "      <td>0.34</td>\n",
       "      <td>-0.54</td>\n",
       "      <td>0.50</td>\n",
       "      <td>-1.10</td>\n",
       "      <td>-0.16</td>\n",
       "      <td>0.32</td>\n",
       "      <td>0.36</td>\n",
       "      <td>0.06</td>\n",
       "      <td>-0.23</td>\n",
       "      <td>0.28</td>\n",
       "      <td>0.18</td>\n",
       "      <td>0.36</td>\n",
       "      <td>-0.22</td>\n",
       "    </tr>\n",
       "    <tr>\n",
       "      <th>2018-10-31</th>\n",
       "      <td>-0.73</td>\n",
       "      <td>-3.14</td>\n",
       "      <td>-1.58</td>\n",
       "      <td>-3.15</td>\n",
       "      <td>-1.29</td>\n",
       "      <td>-2.57</td>\n",
       "      <td>-0.23</td>\n",
       "      <td>-0.96</td>\n",
       "      <td>-4.02</td>\n",
       "      <td>-0.80</td>\n",
       "      <td>-1.09</td>\n",
       "      <td>2.37</td>\n",
       "      <td>-2.69</td>\n",
       "    </tr>\n",
       "    <tr>\n",
       "      <th>2018-11-30</th>\n",
       "      <td>-0.68</td>\n",
       "      <td>-0.53</td>\n",
       "      <td>-1.93</td>\n",
       "      <td>1.20</td>\n",
       "      <td>-2.11</td>\n",
       "      <td>-0.34</td>\n",
       "      <td>-0.67</td>\n",
       "      <td>-0.87</td>\n",
       "      <td>-0.44</td>\n",
       "      <td>1.19</td>\n",
       "      <td>-0.63</td>\n",
       "      <td>-0.21</td>\n",
       "      <td>-0.71</td>\n",
       "    </tr>\n",
       "  </tbody>\n",
       "</table>\n",
       "</div>"
      ],
      "text/plain": [
       "            Convertible Arbitrage  CTA Global  Distressed Securities  \\\n",
       "date                                                                   \n",
       "2018-07-31                   0.21       -0.58                   0.93   \n",
       "2018-08-31                   0.24        1.66                   0.02   \n",
       "2018-09-30                   0.34       -0.54                   0.50   \n",
       "2018-10-31                  -0.73       -3.14                  -1.58   \n",
       "2018-11-30                  -0.68       -0.53                  -1.93   \n",
       "\n",
       "            Emerging Markets  Equity Market Neutral  Event Driven  \\\n",
       "date                                                                \n",
       "2018-07-31              0.40                  -0.10          0.55   \n",
       "2018-08-31             -2.77                   0.04          0.11   \n",
       "2018-09-30             -1.10                  -0.16          0.32   \n",
       "2018-10-31             -3.15                  -1.29         -2.57   \n",
       "2018-11-30              1.20                  -2.11         -0.34   \n",
       "\n",
       "            Fixed Income Arbitrage  Global Macro  Long/Short Equity  \\\n",
       "date                                                                  \n",
       "2018-07-31                    0.22         -0.14               0.67   \n",
       "2018-08-31                    0.17         -0.07               0.35   \n",
       "2018-09-30                    0.36          0.06              -0.23   \n",
       "2018-10-31                   -0.23         -0.96              -4.02   \n",
       "2018-11-30                   -0.67         -0.87              -0.44   \n",
       "\n",
       "            Merger Arbitrage  Relative Value  Short Selling  Funds Of Funds  \n",
       "date                                                                         \n",
       "2018-07-31             -0.21            0.45          -0.52            0.18  \n",
       "2018-08-31              0.50           -0.02          -2.14            0.15  \n",
       "2018-09-30              0.28            0.18           0.36           -0.22  \n",
       "2018-10-31             -0.80           -1.09           2.37           -2.69  \n",
       "2018-11-30              1.19           -0.63          -0.21           -0.71  "
      ]
     },
     "execution_count": 50,
     "metadata": {},
     "output_type": "execute_result"
    }
   ],
   "source": [
    "hfi0018 = hfi[\"2000\":\"2019\"]\n",
    "hfi0018.tail()"
   ]
  },
  {
   "cell_type": "code",
   "execution_count": 51,
   "id": "fecb967a",
   "metadata": {},
   "outputs": [
    {
     "data": {
      "text/plain": [
       "'Fixed Income Arbitrage'"
      ]
     },
     "execution_count": 51,
     "metadata": {},
     "output_type": "execute_result"
    }
   ],
   "source": [
    "hfi0018.kurtosis().idxmax()"
   ]
  },
  {
   "cell_type": "markdown",
   "id": "6a57fcf9",
   "metadata": {},
   "source": [
    "# Week 2"
   ]
  },
  {
   "cell_type": "code",
   "execution_count": 52,
   "id": "e75dafbc",
   "metadata": {},
   "outputs": [],
   "source": [
    "ind = pd.read_csv(\"/Users/danielwat/Documents/Python/Coursera/EDHEC/data/ind30_m_vw_rets.csv\"\n",
    "                  ,index_col=0)"
   ]
  },
  {
   "cell_type": "code",
   "execution_count": 53,
   "id": "2eb9d47b",
   "metadata": {},
   "outputs": [
    {
     "data": {
      "text/html": [
       "<div>\n",
       "<style scoped>\n",
       "    .dataframe tbody tr th:only-of-type {\n",
       "        vertical-align: middle;\n",
       "    }\n",
       "\n",
       "    .dataframe tbody tr th {\n",
       "        vertical-align: top;\n",
       "    }\n",
       "\n",
       "    .dataframe thead th {\n",
       "        text-align: right;\n",
       "    }\n",
       "</style>\n",
       "<table border=\"1\" class=\"dataframe\">\n",
       "  <thead>\n",
       "    <tr style=\"text-align: right;\">\n",
       "      <th></th>\n",
       "      <th>Food</th>\n",
       "      <th>Beer</th>\n",
       "      <th>Smoke</th>\n",
       "      <th>Games</th>\n",
       "      <th>Books</th>\n",
       "      <th>Hshld</th>\n",
       "      <th>Clths</th>\n",
       "      <th>Hlth</th>\n",
       "      <th>Chems</th>\n",
       "      <th>Txtls</th>\n",
       "      <th>...</th>\n",
       "      <th>Telcm</th>\n",
       "      <th>Servs</th>\n",
       "      <th>BusEq</th>\n",
       "      <th>Paper</th>\n",
       "      <th>Trans</th>\n",
       "      <th>Whlsl</th>\n",
       "      <th>Rtail</th>\n",
       "      <th>Meals</th>\n",
       "      <th>Fin</th>\n",
       "      <th>Other</th>\n",
       "    </tr>\n",
       "  </thead>\n",
       "  <tbody>\n",
       "    <tr>\n",
       "      <th>192607</th>\n",
       "      <td>0.56</td>\n",
       "      <td>-5.19</td>\n",
       "      <td>1.29</td>\n",
       "      <td>2.93</td>\n",
       "      <td>10.97</td>\n",
       "      <td>-0.48</td>\n",
       "      <td>8.08</td>\n",
       "      <td>1.77</td>\n",
       "      <td>8.14</td>\n",
       "      <td>0.39</td>\n",
       "      <td>...</td>\n",
       "      <td>0.83</td>\n",
       "      <td>9.22</td>\n",
       "      <td>2.06</td>\n",
       "      <td>7.70</td>\n",
       "      <td>1.93</td>\n",
       "      <td>-23.79</td>\n",
       "      <td>0.07</td>\n",
       "      <td>1.87</td>\n",
       "      <td>0.37</td>\n",
       "      <td>5.20</td>\n",
       "    </tr>\n",
       "    <tr>\n",
       "      <th>192608</th>\n",
       "      <td>2.59</td>\n",
       "      <td>27.03</td>\n",
       "      <td>6.50</td>\n",
       "      <td>0.55</td>\n",
       "      <td>10.01</td>\n",
       "      <td>-3.58</td>\n",
       "      <td>-2.51</td>\n",
       "      <td>4.25</td>\n",
       "      <td>5.50</td>\n",
       "      <td>8.14</td>\n",
       "      <td>...</td>\n",
       "      <td>2.17</td>\n",
       "      <td>2.02</td>\n",
       "      <td>4.39</td>\n",
       "      <td>-2.38</td>\n",
       "      <td>4.88</td>\n",
       "      <td>5.39</td>\n",
       "      <td>-0.75</td>\n",
       "      <td>-0.13</td>\n",
       "      <td>4.46</td>\n",
       "      <td>6.76</td>\n",
       "    </tr>\n",
       "    <tr>\n",
       "      <th>192609</th>\n",
       "      <td>1.16</td>\n",
       "      <td>4.02</td>\n",
       "      <td>1.26</td>\n",
       "      <td>6.58</td>\n",
       "      <td>-0.99</td>\n",
       "      <td>0.73</td>\n",
       "      <td>-0.51</td>\n",
       "      <td>0.69</td>\n",
       "      <td>5.33</td>\n",
       "      <td>2.31</td>\n",
       "      <td>...</td>\n",
       "      <td>2.41</td>\n",
       "      <td>2.25</td>\n",
       "      <td>0.19</td>\n",
       "      <td>-5.54</td>\n",
       "      <td>0.05</td>\n",
       "      <td>-7.87</td>\n",
       "      <td>0.25</td>\n",
       "      <td>-0.56</td>\n",
       "      <td>-1.23</td>\n",
       "      <td>-3.86</td>\n",
       "    </tr>\n",
       "    <tr>\n",
       "      <th>192610</th>\n",
       "      <td>-3.06</td>\n",
       "      <td>-3.31</td>\n",
       "      <td>1.06</td>\n",
       "      <td>-4.76</td>\n",
       "      <td>9.47</td>\n",
       "      <td>-4.68</td>\n",
       "      <td>0.12</td>\n",
       "      <td>-0.57</td>\n",
       "      <td>-4.76</td>\n",
       "      <td>1.00</td>\n",
       "      <td>...</td>\n",
       "      <td>-0.11</td>\n",
       "      <td>-2.00</td>\n",
       "      <td>-1.09</td>\n",
       "      <td>-5.08</td>\n",
       "      <td>-2.64</td>\n",
       "      <td>-15.38</td>\n",
       "      <td>-2.20</td>\n",
       "      <td>-4.11</td>\n",
       "      <td>-5.16</td>\n",
       "      <td>-8.49</td>\n",
       "    </tr>\n",
       "    <tr>\n",
       "      <th>192611</th>\n",
       "      <td>6.35</td>\n",
       "      <td>7.29</td>\n",
       "      <td>4.55</td>\n",
       "      <td>1.66</td>\n",
       "      <td>-5.80</td>\n",
       "      <td>-0.54</td>\n",
       "      <td>1.87</td>\n",
       "      <td>5.42</td>\n",
       "      <td>5.20</td>\n",
       "      <td>3.11</td>\n",
       "      <td>...</td>\n",
       "      <td>1.63</td>\n",
       "      <td>3.77</td>\n",
       "      <td>3.64</td>\n",
       "      <td>3.84</td>\n",
       "      <td>1.60</td>\n",
       "      <td>4.67</td>\n",
       "      <td>6.52</td>\n",
       "      <td>4.33</td>\n",
       "      <td>2.24</td>\n",
       "      <td>4.00</td>\n",
       "    </tr>\n",
       "  </tbody>\n",
       "</table>\n",
       "<p>5 rows × 30 columns</p>\n",
       "</div>"
      ],
      "text/plain": [
       "        Food   Beer   Smoke  Games  Books  Hshld  Clths  Hlth   Chems  Txtls  \\\n",
       "192607   0.56  -5.19   1.29   2.93  10.97  -0.48   8.08   1.77   8.14   0.39   \n",
       "192608   2.59  27.03   6.50   0.55  10.01  -3.58  -2.51   4.25   5.50   8.14   \n",
       "192609   1.16   4.02   1.26   6.58  -0.99   0.73  -0.51   0.69   5.33   2.31   \n",
       "192610  -3.06  -3.31   1.06  -4.76   9.47  -4.68   0.12  -0.57  -4.76   1.00   \n",
       "192611   6.35   7.29   4.55   1.66  -5.80  -0.54   1.87   5.42   5.20   3.11   \n",
       "\n",
       "        ...  Telcm  Servs  BusEq  Paper  Trans  Whlsl  Rtail  Meals  Fin    \\\n",
       "192607  ...   0.83   9.22   2.06   7.70   1.93 -23.79   0.07   1.87   0.37   \n",
       "192608  ...   2.17   2.02   4.39  -2.38   4.88   5.39  -0.75  -0.13   4.46   \n",
       "192609  ...   2.41   2.25   0.19  -5.54   0.05  -7.87   0.25  -0.56  -1.23   \n",
       "192610  ...  -0.11  -2.00  -1.09  -5.08  -2.64 -15.38  -2.20  -4.11  -5.16   \n",
       "192611  ...   1.63   3.77   3.64   3.84   1.60   4.67   6.52   4.33   2.24   \n",
       "\n",
       "        Other  \n",
       "192607   5.20  \n",
       "192608   6.76  \n",
       "192609  -3.86  \n",
       "192610  -8.49  \n",
       "192611   4.00  \n",
       "\n",
       "[5 rows x 30 columns]"
      ]
     },
     "execution_count": 53,
     "metadata": {},
     "output_type": "execute_result"
    }
   ],
   "source": [
    "ind.head()"
   ]
  },
  {
   "cell_type": "code",
   "execution_count": 54,
   "id": "9b3c9101",
   "metadata": {},
   "outputs": [],
   "source": [
    "ind.index = pd.to_datetime(ind.index, format = \"%Y%m\")"
   ]
  },
  {
   "cell_type": "code",
   "execution_count": 55,
   "id": "4eaee726",
   "metadata": {},
   "outputs": [
    {
     "data": {
      "text/html": [
       "<div>\n",
       "<style scoped>\n",
       "    .dataframe tbody tr th:only-of-type {\n",
       "        vertical-align: middle;\n",
       "    }\n",
       "\n",
       "    .dataframe tbody tr th {\n",
       "        vertical-align: top;\n",
       "    }\n",
       "\n",
       "    .dataframe thead th {\n",
       "        text-align: right;\n",
       "    }\n",
       "</style>\n",
       "<table border=\"1\" class=\"dataframe\">\n",
       "  <thead>\n",
       "    <tr style=\"text-align: right;\">\n",
       "      <th></th>\n",
       "      <th>Food</th>\n",
       "      <th>Beer</th>\n",
       "      <th>Smoke</th>\n",
       "      <th>Games</th>\n",
       "      <th>Books</th>\n",
       "      <th>Hshld</th>\n",
       "      <th>Clths</th>\n",
       "      <th>Hlth</th>\n",
       "      <th>Chems</th>\n",
       "      <th>Txtls</th>\n",
       "      <th>...</th>\n",
       "      <th>Telcm</th>\n",
       "      <th>Servs</th>\n",
       "      <th>BusEq</th>\n",
       "      <th>Paper</th>\n",
       "      <th>Trans</th>\n",
       "      <th>Whlsl</th>\n",
       "      <th>Rtail</th>\n",
       "      <th>Meals</th>\n",
       "      <th>Fin</th>\n",
       "      <th>Other</th>\n",
       "    </tr>\n",
       "  </thead>\n",
       "  <tbody>\n",
       "    <tr>\n",
       "      <th>1926-07-01</th>\n",
       "      <td>0.56</td>\n",
       "      <td>-5.19</td>\n",
       "      <td>1.29</td>\n",
       "      <td>2.93</td>\n",
       "      <td>10.97</td>\n",
       "      <td>-0.48</td>\n",
       "      <td>8.08</td>\n",
       "      <td>1.77</td>\n",
       "      <td>8.14</td>\n",
       "      <td>0.39</td>\n",
       "      <td>...</td>\n",
       "      <td>0.83</td>\n",
       "      <td>9.22</td>\n",
       "      <td>2.06</td>\n",
       "      <td>7.70</td>\n",
       "      <td>1.93</td>\n",
       "      <td>-23.79</td>\n",
       "      <td>0.07</td>\n",
       "      <td>1.87</td>\n",
       "      <td>0.37</td>\n",
       "      <td>5.20</td>\n",
       "    </tr>\n",
       "    <tr>\n",
       "      <th>1926-08-01</th>\n",
       "      <td>2.59</td>\n",
       "      <td>27.03</td>\n",
       "      <td>6.50</td>\n",
       "      <td>0.55</td>\n",
       "      <td>10.01</td>\n",
       "      <td>-3.58</td>\n",
       "      <td>-2.51</td>\n",
       "      <td>4.25</td>\n",
       "      <td>5.50</td>\n",
       "      <td>8.14</td>\n",
       "      <td>...</td>\n",
       "      <td>2.17</td>\n",
       "      <td>2.02</td>\n",
       "      <td>4.39</td>\n",
       "      <td>-2.38</td>\n",
       "      <td>4.88</td>\n",
       "      <td>5.39</td>\n",
       "      <td>-0.75</td>\n",
       "      <td>-0.13</td>\n",
       "      <td>4.46</td>\n",
       "      <td>6.76</td>\n",
       "    </tr>\n",
       "    <tr>\n",
       "      <th>1926-09-01</th>\n",
       "      <td>1.16</td>\n",
       "      <td>4.02</td>\n",
       "      <td>1.26</td>\n",
       "      <td>6.58</td>\n",
       "      <td>-0.99</td>\n",
       "      <td>0.73</td>\n",
       "      <td>-0.51</td>\n",
       "      <td>0.69</td>\n",
       "      <td>5.33</td>\n",
       "      <td>2.31</td>\n",
       "      <td>...</td>\n",
       "      <td>2.41</td>\n",
       "      <td>2.25</td>\n",
       "      <td>0.19</td>\n",
       "      <td>-5.54</td>\n",
       "      <td>0.05</td>\n",
       "      <td>-7.87</td>\n",
       "      <td>0.25</td>\n",
       "      <td>-0.56</td>\n",
       "      <td>-1.23</td>\n",
       "      <td>-3.86</td>\n",
       "    </tr>\n",
       "    <tr>\n",
       "      <th>1926-10-01</th>\n",
       "      <td>-3.06</td>\n",
       "      <td>-3.31</td>\n",
       "      <td>1.06</td>\n",
       "      <td>-4.76</td>\n",
       "      <td>9.47</td>\n",
       "      <td>-4.68</td>\n",
       "      <td>0.12</td>\n",
       "      <td>-0.57</td>\n",
       "      <td>-4.76</td>\n",
       "      <td>1.00</td>\n",
       "      <td>...</td>\n",
       "      <td>-0.11</td>\n",
       "      <td>-2.00</td>\n",
       "      <td>-1.09</td>\n",
       "      <td>-5.08</td>\n",
       "      <td>-2.64</td>\n",
       "      <td>-15.38</td>\n",
       "      <td>-2.20</td>\n",
       "      <td>-4.11</td>\n",
       "      <td>-5.16</td>\n",
       "      <td>-8.49</td>\n",
       "    </tr>\n",
       "    <tr>\n",
       "      <th>1926-11-01</th>\n",
       "      <td>6.35</td>\n",
       "      <td>7.29</td>\n",
       "      <td>4.55</td>\n",
       "      <td>1.66</td>\n",
       "      <td>-5.80</td>\n",
       "      <td>-0.54</td>\n",
       "      <td>1.87</td>\n",
       "      <td>5.42</td>\n",
       "      <td>5.20</td>\n",
       "      <td>3.11</td>\n",
       "      <td>...</td>\n",
       "      <td>1.63</td>\n",
       "      <td>3.77</td>\n",
       "      <td>3.64</td>\n",
       "      <td>3.84</td>\n",
       "      <td>1.60</td>\n",
       "      <td>4.67</td>\n",
       "      <td>6.52</td>\n",
       "      <td>4.33</td>\n",
       "      <td>2.24</td>\n",
       "      <td>4.00</td>\n",
       "    </tr>\n",
       "  </tbody>\n",
       "</table>\n",
       "<p>5 rows × 30 columns</p>\n",
       "</div>"
      ],
      "text/plain": [
       "            Food   Beer   Smoke  Games  Books  Hshld  Clths  Hlth   Chems  \\\n",
       "1926-07-01   0.56  -5.19   1.29   2.93  10.97  -0.48   8.08   1.77   8.14   \n",
       "1926-08-01   2.59  27.03   6.50   0.55  10.01  -3.58  -2.51   4.25   5.50   \n",
       "1926-09-01   1.16   4.02   1.26   6.58  -0.99   0.73  -0.51   0.69   5.33   \n",
       "1926-10-01  -3.06  -3.31   1.06  -4.76   9.47  -4.68   0.12  -0.57  -4.76   \n",
       "1926-11-01   6.35   7.29   4.55   1.66  -5.80  -0.54   1.87   5.42   5.20   \n",
       "\n",
       "            Txtls  ...  Telcm  Servs  BusEq  Paper  Trans  Whlsl  Rtail  \\\n",
       "1926-07-01   0.39  ...   0.83   9.22   2.06   7.70   1.93 -23.79   0.07   \n",
       "1926-08-01   8.14  ...   2.17   2.02   4.39  -2.38   4.88   5.39  -0.75   \n",
       "1926-09-01   2.31  ...   2.41   2.25   0.19  -5.54   0.05  -7.87   0.25   \n",
       "1926-10-01   1.00  ...  -0.11  -2.00  -1.09  -5.08  -2.64 -15.38  -2.20   \n",
       "1926-11-01   3.11  ...   1.63   3.77   3.64   3.84   1.60   4.67   6.52   \n",
       "\n",
       "            Meals  Fin    Other  \n",
       "1926-07-01   1.87   0.37   5.20  \n",
       "1926-08-01  -0.13   4.46   6.76  \n",
       "1926-09-01  -0.56  -1.23  -3.86  \n",
       "1926-10-01  -4.11  -5.16  -8.49  \n",
       "1926-11-01   4.33   2.24   4.00  \n",
       "\n",
       "[5 rows x 30 columns]"
      ]
     },
     "execution_count": 55,
     "metadata": {},
     "output_type": "execute_result"
    }
   ],
   "source": [
    "ind.head()"
   ]
  },
  {
   "cell_type": "code",
   "execution_count": 56,
   "id": "8bc144eb",
   "metadata": {},
   "outputs": [],
   "source": [
    "ind.index = ind.index.to_period(\"M\")"
   ]
  },
  {
   "cell_type": "code",
   "execution_count": 57,
   "id": "c1acb5fa",
   "metadata": {},
   "outputs": [
    {
     "data": {
      "text/plain": [
       "-1.31"
      ]
     },
     "execution_count": 57,
     "metadata": {},
     "output_type": "execute_result"
    }
   ],
   "source": [
    "ind[\"Food \"].quantile(q=0.25)"
   ]
  },
  {
   "cell_type": "code",
   "execution_count": 58,
   "id": "8114162c",
   "metadata": {},
   "outputs": [],
   "source": [
    "hfi2000 = hfi[\"2000\":]"
   ]
  },
  {
   "cell_type": "code",
   "execution_count": 59,
   "id": "eae21093",
   "metadata": {},
   "outputs": [
    {
     "data": {
      "text/html": [
       "<div>\n",
       "<style scoped>\n",
       "    .dataframe tbody tr th:only-of-type {\n",
       "        vertical-align: middle;\n",
       "    }\n",
       "\n",
       "    .dataframe tbody tr th {\n",
       "        vertical-align: top;\n",
       "    }\n",
       "\n",
       "    .dataframe thead th {\n",
       "        text-align: right;\n",
       "    }\n",
       "</style>\n",
       "<table border=\"1\" class=\"dataframe\">\n",
       "  <thead>\n",
       "    <tr style=\"text-align: right;\">\n",
       "      <th></th>\n",
       "      <th>Convertible Arbitrage</th>\n",
       "      <th>CTA Global</th>\n",
       "      <th>Distressed Securities</th>\n",
       "      <th>Emerging Markets</th>\n",
       "      <th>Equity Market Neutral</th>\n",
       "      <th>Event Driven</th>\n",
       "      <th>Fixed Income Arbitrage</th>\n",
       "      <th>Global Macro</th>\n",
       "      <th>Long/Short Equity</th>\n",
       "      <th>Merger Arbitrage</th>\n",
       "      <th>Relative Value</th>\n",
       "      <th>Short Selling</th>\n",
       "      <th>Funds Of Funds</th>\n",
       "    </tr>\n",
       "    <tr>\n",
       "      <th>date</th>\n",
       "      <th></th>\n",
       "      <th></th>\n",
       "      <th></th>\n",
       "      <th></th>\n",
       "      <th></th>\n",
       "      <th></th>\n",
       "      <th></th>\n",
       "      <th></th>\n",
       "      <th></th>\n",
       "      <th></th>\n",
       "      <th></th>\n",
       "      <th></th>\n",
       "      <th></th>\n",
       "    </tr>\n",
       "  </thead>\n",
       "  <tbody>\n",
       "    <tr>\n",
       "      <th>2000-01-31</th>\n",
       "      <td>2.27</td>\n",
       "      <td>1.28</td>\n",
       "      <td>0.88</td>\n",
       "      <td>0.77</td>\n",
       "      <td>0.75</td>\n",
       "      <td>0.88</td>\n",
       "      <td>0.41</td>\n",
       "      <td>0.21</td>\n",
       "      <td>0.75</td>\n",
       "      <td>1.43</td>\n",
       "      <td>1.73</td>\n",
       "      <td>4.27</td>\n",
       "      <td>1.69</td>\n",
       "    </tr>\n",
       "    <tr>\n",
       "      <th>2000-02-29</th>\n",
       "      <td>2.67</td>\n",
       "      <td>-0.22</td>\n",
       "      <td>4.21</td>\n",
       "      <td>5.28</td>\n",
       "      <td>2.53</td>\n",
       "      <td>3.46</td>\n",
       "      <td>0.97</td>\n",
       "      <td>4.08</td>\n",
       "      <td>6.99</td>\n",
       "      <td>2.39</td>\n",
       "      <td>1.85</td>\n",
       "      <td>-13.40</td>\n",
       "      <td>6.66</td>\n",
       "    </tr>\n",
       "    <tr>\n",
       "      <th>2000-03-31</th>\n",
       "      <td>2.43</td>\n",
       "      <td>-1.38</td>\n",
       "      <td>1.03</td>\n",
       "      <td>3.18</td>\n",
       "      <td>1.34</td>\n",
       "      <td>0.69</td>\n",
       "      <td>-0.61</td>\n",
       "      <td>-1.04</td>\n",
       "      <td>0.06</td>\n",
       "      <td>1.31</td>\n",
       "      <td>1.63</td>\n",
       "      <td>-2.30</td>\n",
       "      <td>0.39</td>\n",
       "    </tr>\n",
       "    <tr>\n",
       "      <th>2000-04-30</th>\n",
       "      <td>2.23</td>\n",
       "      <td>-2.41</td>\n",
       "      <td>-1.01</td>\n",
       "      <td>-5.41</td>\n",
       "      <td>1.68</td>\n",
       "      <td>-0.59</td>\n",
       "      <td>-0.06</td>\n",
       "      <td>-3.04</td>\n",
       "      <td>-2.01</td>\n",
       "      <td>1.88</td>\n",
       "      <td>0.92</td>\n",
       "      <td>10.28</td>\n",
       "      <td>-2.69</td>\n",
       "    </tr>\n",
       "    <tr>\n",
       "      <th>2000-05-31</th>\n",
       "      <td>1.49</td>\n",
       "      <td>1.14</td>\n",
       "      <td>-1.32</td>\n",
       "      <td>-4.33</td>\n",
       "      <td>0.62</td>\n",
       "      <td>-0.34</td>\n",
       "      <td>1.07</td>\n",
       "      <td>-0.70</td>\n",
       "      <td>-0.97</td>\n",
       "      <td>1.46</td>\n",
       "      <td>0.80</td>\n",
       "      <td>7.04</td>\n",
       "      <td>-1.22</td>\n",
       "    </tr>\n",
       "  </tbody>\n",
       "</table>\n",
       "</div>"
      ],
      "text/plain": [
       "            Convertible Arbitrage  CTA Global  Distressed Securities  \\\n",
       "date                                                                   \n",
       "2000-01-31                   2.27        1.28                   0.88   \n",
       "2000-02-29                   2.67       -0.22                   4.21   \n",
       "2000-03-31                   2.43       -1.38                   1.03   \n",
       "2000-04-30                   2.23       -2.41                  -1.01   \n",
       "2000-05-31                   1.49        1.14                  -1.32   \n",
       "\n",
       "            Emerging Markets  Equity Market Neutral  Event Driven  \\\n",
       "date                                                                \n",
       "2000-01-31              0.77                   0.75          0.88   \n",
       "2000-02-29              5.28                   2.53          3.46   \n",
       "2000-03-31              3.18                   1.34          0.69   \n",
       "2000-04-30             -5.41                   1.68         -0.59   \n",
       "2000-05-31             -4.33                   0.62         -0.34   \n",
       "\n",
       "            Fixed Income Arbitrage  Global Macro  Long/Short Equity  \\\n",
       "date                                                                  \n",
       "2000-01-31                    0.41          0.21               0.75   \n",
       "2000-02-29                    0.97          4.08               6.99   \n",
       "2000-03-31                   -0.61         -1.04               0.06   \n",
       "2000-04-30                   -0.06         -3.04              -2.01   \n",
       "2000-05-31                    1.07         -0.70              -0.97   \n",
       "\n",
       "            Merger Arbitrage  Relative Value  Short Selling  Funds Of Funds  \n",
       "date                                                                         \n",
       "2000-01-31              1.43            1.73           4.27            1.69  \n",
       "2000-02-29              2.39            1.85         -13.40            6.66  \n",
       "2000-03-31              1.31            1.63          -2.30            0.39  \n",
       "2000-04-30              1.88            0.92          10.28           -2.69  \n",
       "2000-05-31              1.46            0.80           7.04           -1.22  "
      ]
     },
     "execution_count": 59,
     "metadata": {},
     "output_type": "execute_result"
    }
   ],
   "source": [
    "hfi2000.head()"
   ]
  },
  {
   "cell_type": "code",
   "execution_count": 60,
   "id": "b85ae4bf",
   "metadata": {},
   "outputs": [],
   "source": [
    "from scipy.stats import norm"
   ]
  },
  {
   "cell_type": "code",
   "execution_count": 61,
   "id": "fc9bf639",
   "metadata": {},
   "outputs": [],
   "source": [
    "z = norm.ppf(0.01)"
   ]
  },
  {
   "cell_type": "code",
   "execution_count": 62,
   "id": "a98c0e4f",
   "metadata": {},
   "outputs": [],
   "source": [
    "var_gaussian = -(hfi2000.mean()+z*hfi2000.std(ddof=0))"
   ]
  },
  {
   "cell_type": "code",
   "execution_count": 63,
   "id": "8b8cf7d3",
   "metadata": {},
   "outputs": [
    {
     "data": {
      "text/plain": [
       "Convertible Arbitrage      3.484471\n",
       "CTA Global                 5.033613\n",
       "Distressed Securities      3.143018\n",
       "Emerging Markets           5.807041\n",
       "Equity Market Neutral      1.477190\n",
       "Event Driven               3.085309\n",
       "Fixed Income Arbitrage     1.951918\n",
       "Global Macro               2.461907\n",
       "Long/Short Equity          3.942044\n",
       "Merger Arbitrage           1.535518\n",
       "Relative Value             2.160459\n",
       "Short Selling             10.213030\n",
       "Funds Of Funds             2.938540\n",
       "dtype: float64"
      ]
     },
     "execution_count": 63,
     "metadata": {},
     "output_type": "execute_result"
    }
   ],
   "source": [
    "var_gaussian"
   ]
  },
  {
   "cell_type": "code",
   "execution_count": 64,
   "id": "77335d10",
   "metadata": {},
   "outputs": [],
   "source": [
    "skewness = hfi2000.skew()\n",
    "kurtosis = hfi2000.kurtosis()"
   ]
  },
  {
   "cell_type": "code",
   "execution_count": 65,
   "id": "aec7346e",
   "metadata": {},
   "outputs": [],
   "source": [
    "z = (z + \n",
    "     (z**2 - 1)*skewness/6 + \n",
    "     (z**3 - 3*z)*(kurtosis-3)/24 - \n",
    "     (2*z**3- 5*z)*(skewness**2)/36)"
   ]
  },
  {
   "cell_type": "code",
   "execution_count": 66,
   "id": "8d2904aa",
   "metadata": {},
   "outputs": [],
   "source": [
    "var_modified = -(hfi2000.mean()+z*hfi2000.std(ddof=0))"
   ]
  },
  {
   "cell_type": "code",
   "execution_count": 67,
   "id": "a511ba14",
   "metadata": {},
   "outputs": [
    {
     "data": {
      "text/plain": [
       "Convertible Arbitrage     9.319132\n",
       "CTA Global                3.052093\n",
       "Distressed Securities     3.857289\n",
       "Emerging Markets          6.812934\n",
       "Equity Market Neutral     3.649090\n",
       "Event Driven              3.506643\n",
       "Fixed Income Arbitrage    6.043963\n",
       "Global Macro              1.417038\n",
       "Long/Short Equity         3.839137\n",
       "Merger Arbitrage          1.544995\n",
       "Relative Value            4.150692\n",
       "Short Selling             6.869477\n",
       "Funds Of Funds            3.949437\n",
       "dtype: float64"
      ]
     },
     "execution_count": 67,
     "metadata": {},
     "output_type": "execute_result"
    }
   ],
   "source": [
    "var_modified #conner fisher var"
   ]
  },
  {
   "cell_type": "code",
   "execution_count": 68,
   "id": "a189c118",
   "metadata": {},
   "outputs": [
    {
     "data": {
      "text/plain": [
       "array([0.031674, 0.050938, 0.042642, 0.065496, 0.0198  , 0.03854 ,\n",
       "       0.030748, 0.022632, 0.04506 , 0.022654, 0.021788, 0.107684,\n",
       "       0.0272  ])"
      ]
     },
     "execution_count": 68,
     "metadata": {},
     "output_type": "execute_result"
    }
   ],
   "source": [
    "-np.percentile(hfi2000, 1, axis=0)/100 #var historic"
   ]
  },
  {
   "cell_type": "code",
   "execution_count": 69,
   "id": "56408a91",
   "metadata": {},
   "outputs": [],
   "source": [
    "ind = ind/100"
   ]
  },
  {
   "cell_type": "code",
   "execution_count": 70,
   "id": "2fe01a71",
   "metadata": {},
   "outputs": [],
   "source": [
    "ind.columns = ind.columns.str.strip()"
   ]
  },
  {
   "cell_type": "code",
   "execution_count": 71,
   "id": "b4cc8e7c",
   "metadata": {},
   "outputs": [],
   "source": [
    "returns1317 = ind[\"2013\":\"2017\"]"
   ]
  },
  {
   "cell_type": "code",
   "execution_count": 72,
   "id": "ab5c3e34",
   "metadata": {
    "scrolled": true
   },
   "outputs": [
    {
     "data": {
      "text/html": [
       "<div>\n",
       "<style scoped>\n",
       "    .dataframe tbody tr th:only-of-type {\n",
       "        vertical-align: middle;\n",
       "    }\n",
       "\n",
       "    .dataframe tbody tr th {\n",
       "        vertical-align: top;\n",
       "    }\n",
       "\n",
       "    .dataframe thead th {\n",
       "        text-align: right;\n",
       "    }\n",
       "</style>\n",
       "<table border=\"1\" class=\"dataframe\">\n",
       "  <thead>\n",
       "    <tr style=\"text-align: right;\">\n",
       "      <th></th>\n",
       "      <th>Books</th>\n",
       "      <th>Steel</th>\n",
       "      <th>Oil</th>\n",
       "      <th>Mines</th>\n",
       "    </tr>\n",
       "  </thead>\n",
       "  <tbody>\n",
       "    <tr>\n",
       "      <th>2013-01</th>\n",
       "      <td>0.0513</td>\n",
       "      <td>0.0428</td>\n",
       "      <td>0.0788</td>\n",
       "      <td>0.0059</td>\n",
       "    </tr>\n",
       "    <tr>\n",
       "      <th>2013-02</th>\n",
       "      <td>-0.0654</td>\n",
       "      <td>-0.0268</td>\n",
       "      <td>0.0052</td>\n",
       "      <td>-0.0756</td>\n",
       "    </tr>\n",
       "    <tr>\n",
       "      <th>2013-03</th>\n",
       "      <td>0.0778</td>\n",
       "      <td>0.0210</td>\n",
       "      <td>0.0209</td>\n",
       "      <td>0.0091</td>\n",
       "    </tr>\n",
       "    <tr>\n",
       "      <th>2013-04</th>\n",
       "      <td>-0.0029</td>\n",
       "      <td>-0.0441</td>\n",
       "      <td>-0.0129</td>\n",
       "      <td>-0.1057</td>\n",
       "    </tr>\n",
       "    <tr>\n",
       "      <th>2013-05</th>\n",
       "      <td>0.0479</td>\n",
       "      <td>0.0384</td>\n",
       "      <td>0.0307</td>\n",
       "      <td>0.0022</td>\n",
       "    </tr>\n",
       "    <tr>\n",
       "      <th>2013-06</th>\n",
       "      <td>0.0246</td>\n",
       "      <td>-0.0472</td>\n",
       "      <td>-0.0211</td>\n",
       "      <td>-0.0959</td>\n",
       "    </tr>\n",
       "    <tr>\n",
       "      <th>2013-07</th>\n",
       "      <td>0.1207</td>\n",
       "      <td>0.0697</td>\n",
       "      <td>0.0496</td>\n",
       "      <td>0.0002</td>\n",
       "    </tr>\n",
       "    <tr>\n",
       "      <th>2013-08</th>\n",
       "      <td>-0.0488</td>\n",
       "      <td>-0.0275</td>\n",
       "      <td>-0.0193</td>\n",
       "      <td>0.0459</td>\n",
       "    </tr>\n",
       "    <tr>\n",
       "      <th>2013-09</th>\n",
       "      <td>0.0626</td>\n",
       "      <td>0.0835</td>\n",
       "      <td>0.0189</td>\n",
       "      <td>0.0116</td>\n",
       "    </tr>\n",
       "    <tr>\n",
       "      <th>2013-10</th>\n",
       "      <td>0.0718</td>\n",
       "      <td>0.0838</td>\n",
       "      <td>0.0472</td>\n",
       "      <td>0.0534</td>\n",
       "    </tr>\n",
       "    <tr>\n",
       "      <th>2013-11</th>\n",
       "      <td>0.0021</td>\n",
       "      <td>0.0172</td>\n",
       "      <td>0.0098</td>\n",
       "      <td>-0.0558</td>\n",
       "    </tr>\n",
       "    <tr>\n",
       "      <th>2013-12</th>\n",
       "      <td>0.0775</td>\n",
       "      <td>0.0652</td>\n",
       "      <td>0.0290</td>\n",
       "      <td>0.0684</td>\n",
       "    </tr>\n",
       "    <tr>\n",
       "      <th>2014-01</th>\n",
       "      <td>-0.0712</td>\n",
       "      <td>-0.0547</td>\n",
       "      <td>-0.0703</td>\n",
       "      <td>-0.0643</td>\n",
       "    </tr>\n",
       "    <tr>\n",
       "      <th>2014-02</th>\n",
       "      <td>0.0673</td>\n",
       "      <td>0.0255</td>\n",
       "      <td>0.0571</td>\n",
       "      <td>0.0656</td>\n",
       "    </tr>\n",
       "    <tr>\n",
       "      <th>2014-03</th>\n",
       "      <td>-0.0075</td>\n",
       "      <td>0.0367</td>\n",
       "      <td>0.0251</td>\n",
       "      <td>-0.0064</td>\n",
       "    </tr>\n",
       "    <tr>\n",
       "      <th>2014-04</th>\n",
       "      <td>-0.0209</td>\n",
       "      <td>0.0065</td>\n",
       "      <td>0.0564</td>\n",
       "      <td>0.0294</td>\n",
       "    </tr>\n",
       "    <tr>\n",
       "      <th>2014-05</th>\n",
       "      <td>-0.0153</td>\n",
       "      <td>-0.0162</td>\n",
       "      <td>0.0096</td>\n",
       "      <td>-0.0217</td>\n",
       "    </tr>\n",
       "    <tr>\n",
       "      <th>2014-06</th>\n",
       "      <td>0.0880</td>\n",
       "      <td>0.0489</td>\n",
       "      <td>0.0416</td>\n",
       "      <td>0.0629</td>\n",
       "    </tr>\n",
       "    <tr>\n",
       "      <th>2014-07</th>\n",
       "      <td>-0.0160</td>\n",
       "      <td>0.0220</td>\n",
       "      <td>-0.0349</td>\n",
       "      <td>0.0193</td>\n",
       "    </tr>\n",
       "    <tr>\n",
       "      <th>2014-08</th>\n",
       "      <td>0.0264</td>\n",
       "      <td>0.0621</td>\n",
       "      <td>0.0225</td>\n",
       "      <td>0.0134</td>\n",
       "    </tr>\n",
       "    <tr>\n",
       "      <th>2014-09</th>\n",
       "      <td>-0.0729</td>\n",
       "      <td>-0.0479</td>\n",
       "      <td>-0.0798</td>\n",
       "      <td>-0.1077</td>\n",
       "    </tr>\n",
       "    <tr>\n",
       "      <th>2014-10</th>\n",
       "      <td>0.0328</td>\n",
       "      <td>0.0217</td>\n",
       "      <td>-0.0447</td>\n",
       "      <td>-0.0928</td>\n",
       "    </tr>\n",
       "    <tr>\n",
       "      <th>2014-11</th>\n",
       "      <td>0.0111</td>\n",
       "      <td>-0.0246</td>\n",
       "      <td>-0.1003</td>\n",
       "      <td>-0.0088</td>\n",
       "    </tr>\n",
       "    <tr>\n",
       "      <th>2014-12</th>\n",
       "      <td>0.0183</td>\n",
       "      <td>-0.0660</td>\n",
       "      <td>0.0058</td>\n",
       "      <td>-0.0640</td>\n",
       "    </tr>\n",
       "    <tr>\n",
       "      <th>2015-01</th>\n",
       "      <td>-0.0218</td>\n",
       "      <td>-0.0965</td>\n",
       "      <td>-0.0430</td>\n",
       "      <td>-0.0435</td>\n",
       "    </tr>\n",
       "    <tr>\n",
       "      <th>2015-02</th>\n",
       "      <td>0.0900</td>\n",
       "      <td>0.0377</td>\n",
       "      <td>0.0475</td>\n",
       "      <td>0.1473</td>\n",
       "    </tr>\n",
       "    <tr>\n",
       "      <th>2015-03</th>\n",
       "      <td>0.0056</td>\n",
       "      <td>-0.0272</td>\n",
       "      <td>-0.0252</td>\n",
       "      <td>-0.0696</td>\n",
       "    </tr>\n",
       "    <tr>\n",
       "      <th>2015-04</th>\n",
       "      <td>-0.0411</td>\n",
       "      <td>0.0405</td>\n",
       "      <td>0.0692</td>\n",
       "      <td>0.1262</td>\n",
       "    </tr>\n",
       "    <tr>\n",
       "      <th>2015-05</th>\n",
       "      <td>0.0193</td>\n",
       "      <td>-0.0381</td>\n",
       "      <td>-0.0502</td>\n",
       "      <td>-0.0530</td>\n",
       "    </tr>\n",
       "    <tr>\n",
       "      <th>2015-06</th>\n",
       "      <td>-0.0084</td>\n",
       "      <td>-0.0525</td>\n",
       "      <td>-0.0374</td>\n",
       "      <td>-0.0635</td>\n",
       "    </tr>\n",
       "    <tr>\n",
       "      <th>2015-07</th>\n",
       "      <td>-0.0290</td>\n",
       "      <td>-0.0821</td>\n",
       "      <td>-0.0894</td>\n",
       "      <td>-0.1310</td>\n",
       "    </tr>\n",
       "    <tr>\n",
       "      <th>2015-08</th>\n",
       "      <td>-0.0861</td>\n",
       "      <td>-0.0441</td>\n",
       "      <td>-0.0370</td>\n",
       "      <td>-0.0148</td>\n",
       "    </tr>\n",
       "    <tr>\n",
       "      <th>2015-09</th>\n",
       "      <td>-0.0532</td>\n",
       "      <td>-0.1059</td>\n",
       "      <td>-0.0563</td>\n",
       "      <td>-0.0607</td>\n",
       "    </tr>\n",
       "    <tr>\n",
       "      <th>2015-10</th>\n",
       "      <td>0.1221</td>\n",
       "      <td>0.0590</td>\n",
       "      <td>0.1252</td>\n",
       "      <td>0.0882</td>\n",
       "    </tr>\n",
       "    <tr>\n",
       "      <th>2015-11</th>\n",
       "      <td>-0.0117</td>\n",
       "      <td>-0.0089</td>\n",
       "      <td>0.0107</td>\n",
       "      <td>-0.0606</td>\n",
       "    </tr>\n",
       "    <tr>\n",
       "      <th>2015-12</th>\n",
       "      <td>-0.0617</td>\n",
       "      <td>-0.0265</td>\n",
       "      <td>-0.0973</td>\n",
       "      <td>-0.0646</td>\n",
       "    </tr>\n",
       "    <tr>\n",
       "      <th>2016-01</th>\n",
       "      <td>-0.0527</td>\n",
       "      <td>-0.0965</td>\n",
       "      <td>-0.0463</td>\n",
       "      <td>-0.0534</td>\n",
       "    </tr>\n",
       "    <tr>\n",
       "      <th>2016-02</th>\n",
       "      <td>-0.0094</td>\n",
       "      <td>0.0737</td>\n",
       "      <td>-0.0298</td>\n",
       "      <td>0.1223</td>\n",
       "    </tr>\n",
       "    <tr>\n",
       "      <th>2016-03</th>\n",
       "      <td>0.0690</td>\n",
       "      <td>0.1774</td>\n",
       "      <td>0.1085</td>\n",
       "      <td>0.1332</td>\n",
       "    </tr>\n",
       "    <tr>\n",
       "      <th>2016-04</th>\n",
       "      <td>0.0183</td>\n",
       "      <td>0.0986</td>\n",
       "      <td>0.0908</td>\n",
       "      <td>0.1577</td>\n",
       "    </tr>\n",
       "    <tr>\n",
       "      <th>2016-05</th>\n",
       "      <td>-0.0052</td>\n",
       "      <td>-0.0849</td>\n",
       "      <td>-0.0093</td>\n",
       "      <td>-0.0511</td>\n",
       "    </tr>\n",
       "    <tr>\n",
       "      <th>2016-06</th>\n",
       "      <td>-0.0032</td>\n",
       "      <td>0.0256</td>\n",
       "      <td>0.0266</td>\n",
       "      <td>0.0799</td>\n",
       "    </tr>\n",
       "    <tr>\n",
       "      <th>2016-07</th>\n",
       "      <td>0.0740</td>\n",
       "      <td>0.1359</td>\n",
       "      <td>-0.0288</td>\n",
       "      <td>0.0750</td>\n",
       "    </tr>\n",
       "    <tr>\n",
       "      <th>2016-08</th>\n",
       "      <td>0.0031</td>\n",
       "      <td>-0.0752</td>\n",
       "      <td>0.0141</td>\n",
       "      <td>-0.0977</td>\n",
       "    </tr>\n",
       "    <tr>\n",
       "      <th>2016-09</th>\n",
       "      <td>-0.0393</td>\n",
       "      <td>0.0244</td>\n",
       "      <td>0.0294</td>\n",
       "      <td>0.0216</td>\n",
       "    </tr>\n",
       "    <tr>\n",
       "      <th>2016-10</th>\n",
       "      <td>-0.1026</td>\n",
       "      <td>-0.0298</td>\n",
       "      <td>-0.0290</td>\n",
       "      <td>0.0080</td>\n",
       "    </tr>\n",
       "    <tr>\n",
       "      <th>2016-11</th>\n",
       "      <td>0.0816</td>\n",
       "      <td>0.2136</td>\n",
       "      <td>0.0953</td>\n",
       "      <td>0.1160</td>\n",
       "    </tr>\n",
       "    <tr>\n",
       "      <th>2016-12</th>\n",
       "      <td>0.0201</td>\n",
       "      <td>-0.0226</td>\n",
       "      <td>0.0220</td>\n",
       "      <td>-0.0177</td>\n",
       "    </tr>\n",
       "    <tr>\n",
       "      <th>2017-01</th>\n",
       "      <td>0.0164</td>\n",
       "      <td>0.0370</td>\n",
       "      <td>-0.0433</td>\n",
       "      <td>0.1241</td>\n",
       "    </tr>\n",
       "    <tr>\n",
       "      <th>2017-02</th>\n",
       "      <td>-0.0035</td>\n",
       "      <td>0.0919</td>\n",
       "      <td>-0.0232</td>\n",
       "      <td>-0.0841</td>\n",
       "    </tr>\n",
       "    <tr>\n",
       "      <th>2017-03</th>\n",
       "      <td>-0.0089</td>\n",
       "      <td>-0.0614</td>\n",
       "      <td>-0.0126</td>\n",
       "      <td>-0.0231</td>\n",
       "    </tr>\n",
       "    <tr>\n",
       "      <th>2017-04</th>\n",
       "      <td>-0.0078</td>\n",
       "      <td>-0.0050</td>\n",
       "      <td>-0.0278</td>\n",
       "      <td>-0.0119</td>\n",
       "    </tr>\n",
       "    <tr>\n",
       "      <th>2017-05</th>\n",
       "      <td>-0.0165</td>\n",
       "      <td>-0.0460</td>\n",
       "      <td>-0.0347</td>\n",
       "      <td>-0.0108</td>\n",
       "    </tr>\n",
       "    <tr>\n",
       "      <th>2017-06</th>\n",
       "      <td>0.0275</td>\n",
       "      <td>-0.0022</td>\n",
       "      <td>-0.0020</td>\n",
       "      <td>-0.0055</td>\n",
       "    </tr>\n",
       "    <tr>\n",
       "      <th>2017-07</th>\n",
       "      <td>0.0237</td>\n",
       "      <td>0.0131</td>\n",
       "      <td>0.0202</td>\n",
       "      <td>0.0861</td>\n",
       "    </tr>\n",
       "    <tr>\n",
       "      <th>2017-08</th>\n",
       "      <td>-0.0629</td>\n",
       "      <td>0.0165</td>\n",
       "      <td>-0.0526</td>\n",
       "      <td>0.0083</td>\n",
       "    </tr>\n",
       "    <tr>\n",
       "      <th>2017-09</th>\n",
       "      <td>0.0360</td>\n",
       "      <td>0.0372</td>\n",
       "      <td>0.1125</td>\n",
       "      <td>-0.0195</td>\n",
       "    </tr>\n",
       "    <tr>\n",
       "      <th>2017-10</th>\n",
       "      <td>-0.0183</td>\n",
       "      <td>0.0223</td>\n",
       "      <td>0.0023</td>\n",
       "      <td>0.0145</td>\n",
       "    </tr>\n",
       "    <tr>\n",
       "      <th>2017-11</th>\n",
       "      <td>0.1024</td>\n",
       "      <td>-0.0138</td>\n",
       "      <td>0.0289</td>\n",
       "      <td>0.0015</td>\n",
       "    </tr>\n",
       "    <tr>\n",
       "      <th>2017-12</th>\n",
       "      <td>0.0111</td>\n",
       "      <td>0.1319</td>\n",
       "      <td>0.0509</td>\n",
       "      <td>0.1151</td>\n",
       "    </tr>\n",
       "  </tbody>\n",
       "</table>\n",
       "</div>"
      ],
      "text/plain": [
       "          Books   Steel     Oil   Mines\n",
       "2013-01  0.0513  0.0428  0.0788  0.0059\n",
       "2013-02 -0.0654 -0.0268  0.0052 -0.0756\n",
       "2013-03  0.0778  0.0210  0.0209  0.0091\n",
       "2013-04 -0.0029 -0.0441 -0.0129 -0.1057\n",
       "2013-05  0.0479  0.0384  0.0307  0.0022\n",
       "2013-06  0.0246 -0.0472 -0.0211 -0.0959\n",
       "2013-07  0.1207  0.0697  0.0496  0.0002\n",
       "2013-08 -0.0488 -0.0275 -0.0193  0.0459\n",
       "2013-09  0.0626  0.0835  0.0189  0.0116\n",
       "2013-10  0.0718  0.0838  0.0472  0.0534\n",
       "2013-11  0.0021  0.0172  0.0098 -0.0558\n",
       "2013-12  0.0775  0.0652  0.0290  0.0684\n",
       "2014-01 -0.0712 -0.0547 -0.0703 -0.0643\n",
       "2014-02  0.0673  0.0255  0.0571  0.0656\n",
       "2014-03 -0.0075  0.0367  0.0251 -0.0064\n",
       "2014-04 -0.0209  0.0065  0.0564  0.0294\n",
       "2014-05 -0.0153 -0.0162  0.0096 -0.0217\n",
       "2014-06  0.0880  0.0489  0.0416  0.0629\n",
       "2014-07 -0.0160  0.0220 -0.0349  0.0193\n",
       "2014-08  0.0264  0.0621  0.0225  0.0134\n",
       "2014-09 -0.0729 -0.0479 -0.0798 -0.1077\n",
       "2014-10  0.0328  0.0217 -0.0447 -0.0928\n",
       "2014-11  0.0111 -0.0246 -0.1003 -0.0088\n",
       "2014-12  0.0183 -0.0660  0.0058 -0.0640\n",
       "2015-01 -0.0218 -0.0965 -0.0430 -0.0435\n",
       "2015-02  0.0900  0.0377  0.0475  0.1473\n",
       "2015-03  0.0056 -0.0272 -0.0252 -0.0696\n",
       "2015-04 -0.0411  0.0405  0.0692  0.1262\n",
       "2015-05  0.0193 -0.0381 -0.0502 -0.0530\n",
       "2015-06 -0.0084 -0.0525 -0.0374 -0.0635\n",
       "2015-07 -0.0290 -0.0821 -0.0894 -0.1310\n",
       "2015-08 -0.0861 -0.0441 -0.0370 -0.0148\n",
       "2015-09 -0.0532 -0.1059 -0.0563 -0.0607\n",
       "2015-10  0.1221  0.0590  0.1252  0.0882\n",
       "2015-11 -0.0117 -0.0089  0.0107 -0.0606\n",
       "2015-12 -0.0617 -0.0265 -0.0973 -0.0646\n",
       "2016-01 -0.0527 -0.0965 -0.0463 -0.0534\n",
       "2016-02 -0.0094  0.0737 -0.0298  0.1223\n",
       "2016-03  0.0690  0.1774  0.1085  0.1332\n",
       "2016-04  0.0183  0.0986  0.0908  0.1577\n",
       "2016-05 -0.0052 -0.0849 -0.0093 -0.0511\n",
       "2016-06 -0.0032  0.0256  0.0266  0.0799\n",
       "2016-07  0.0740  0.1359 -0.0288  0.0750\n",
       "2016-08  0.0031 -0.0752  0.0141 -0.0977\n",
       "2016-09 -0.0393  0.0244  0.0294  0.0216\n",
       "2016-10 -0.1026 -0.0298 -0.0290  0.0080\n",
       "2016-11  0.0816  0.2136  0.0953  0.1160\n",
       "2016-12  0.0201 -0.0226  0.0220 -0.0177\n",
       "2017-01  0.0164  0.0370 -0.0433  0.1241\n",
       "2017-02 -0.0035  0.0919 -0.0232 -0.0841\n",
       "2017-03 -0.0089 -0.0614 -0.0126 -0.0231\n",
       "2017-04 -0.0078 -0.0050 -0.0278 -0.0119\n",
       "2017-05 -0.0165 -0.0460 -0.0347 -0.0108\n",
       "2017-06  0.0275 -0.0022 -0.0020 -0.0055\n",
       "2017-07  0.0237  0.0131  0.0202  0.0861\n",
       "2017-08 -0.0629  0.0165 -0.0526  0.0083\n",
       "2017-09  0.0360  0.0372  0.1125 -0.0195\n",
       "2017-10 -0.0183  0.0223  0.0023  0.0145\n",
       "2017-11  0.1024 -0.0138  0.0289  0.0015\n",
       "2017-12  0.0111  0.1319  0.0509  0.1151"
      ]
     },
     "execution_count": 72,
     "metadata": {},
     "output_type": "execute_result"
    }
   ],
   "source": [
    "returns1317 = returns1317[[\"Books\",\"Steel\",\"Oil\",\"Mines\"]]\n",
    "returns1317"
   ]
  },
  {
   "cell_type": "code",
   "execution_count": 73,
   "id": "d5e5f404",
   "metadata": {},
   "outputs": [],
   "source": [
    "cov1317 = returns1317.cov()"
   ]
  },
  {
   "cell_type": "code",
   "execution_count": 74,
   "id": "75173aab",
   "metadata": {},
   "outputs": [],
   "source": [
    "def portfolio_return(weights, returns):\n",
    "    return weights.T @ returns\n",
    "\n",
    "def portfolio_vol(weights, cov):\n",
    "    return (weights.T @ cov @ weights)**0.5"
   ]
  },
  {
   "cell_type": "code",
   "execution_count": 75,
   "id": "7b864919",
   "metadata": {},
   "outputs": [],
   "source": [
    "from scipy.optimize import minimize"
   ]
  },
  {
   "cell_type": "code",
   "execution_count": 76,
   "id": "811ed0b6",
   "metadata": {},
   "outputs": [],
   "source": [
    "def minimize_vol(target_return, expected_return, cov):\n",
    "    n = expected_return.shape[0]\n",
    "    initialguess = np.repeat(1/n, n)\n",
    "    bounds = ((0.0,1.0),)*n\n",
    "    return_is_target = {\n",
    "        'type': 'eq',\n",
    "        'args': (expected_return,),\n",
    "        'fun': lambda weights, expected_return: target_return - portfolio_return(weights, expected_return)\n",
    "    }\n",
    "    weights_equal_1 = {\n",
    "        'type': 'eq',\n",
    "        'fun': lambda weights: np.sum(weights) -1\n",
    "    }\n",
    "    answer = minimize(portfolio_vol, \n",
    "                       initialguess, \n",
    "                       args=(cov,),\n",
    "                       method = \"SLSQP\",\n",
    "                       options = {'disp': False}, \n",
    "                       constraints = (return_is_target,weights_equal_1),\n",
    "                       bounds = bounds\n",
    "                      )\n",
    "    return answer.x"
   ]
  },
  {
   "cell_type": "code",
   "execution_count": 77,
   "id": "b2e14672",
   "metadata": {
    "scrolled": true
   },
   "outputs": [],
   "source": [
    "annualized_returns1317 = (returns1317+1).prod()**(12/60)-1\n",
    "annualized_vol1317 = returns1317.std(ddof=0)*np.sqrt(12)"
   ]
  },
  {
   "cell_type": "code",
   "execution_count": 78,
   "id": "a80ef472",
   "metadata": {
    "scrolled": true
   },
   "outputs": [
    {
     "data": {
      "text/plain": [
       "array([0.38593721, 0.        , 0.49961795, 0.11444484])"
      ]
     },
     "execution_count": 78,
     "metadata": {},
     "output_type": "execute_result"
    }
   ],
   "source": [
    "minimize_vol(0.05, annualized_returns1317, cov1317)\n",
    "#minimized portfolio volatility weight at each point"
   ]
  },
  {
   "cell_type": "code",
   "execution_count": 79,
   "id": "d81fee42",
   "metadata": {},
   "outputs": [],
   "source": [
    "def plot_efficient_frontier(number_of_point, expected_returns, cov):\n",
    "    def optimal_weights(number_of_points, expected_returns, cov):\n",
    "        returns = np.linspace(expected_returns.min(),\n",
    "                              expected_returns.max(), \n",
    "                              number_of_points\n",
    "                             )\n",
    "        weights = [minimize_vol(i, expected_returns, cov) for i in returns]\n",
    "        return weights\n",
    "    weights = optimal_weights(number_of_point,expected_returns, cov)\n",
    "    returns = [portfolio_return(w, expected_returns) for w in weights]\n",
    "    vol = [portfolio_vol(w, cov) for w in weights]\n",
    "    efficient_frontier = pd.DataFrame({\n",
    "        \"Returns\": returns,\n",
    "        \"Volatility\": vol\n",
    "    })\n",
    "    return efficient_frontier.plot.line(x = \"Volatility\", \n",
    "                                         y = \"Returns\", \n",
    "                                         style = '.-'\n",
    "                                        )"
   ]
  },
  {
   "cell_type": "code",
   "execution_count": 80,
   "id": "7e4dec83",
   "metadata": {},
   "outputs": [
    {
     "data": {
      "text/plain": [
       "<AxesSubplot:xlabel='Volatility'>"
      ]
     },
     "execution_count": 80,
     "metadata": {},
     "output_type": "execute_result"
    },
    {
     "data": {
      "image/png": "[encoded data removed]",
      "text/plain": [
       "<Figure size 432x288 with 1 Axes>"
      ]
     },
     "metadata": {
      "needs_background": "light"
     },
     "output_type": "display_data"
    }
   ],
   "source": [
    "plot_efficient_frontier(20, annualized_returns1317, cov1317)"
   ]
  },
  {
   "cell_type": "code",
   "execution_count": 81,
   "id": "8a843023",
   "metadata": {},
   "outputs": [],
   "source": [
    "#MSR Weight\n",
    "def maximized_sharpe_ratio(riskfree_rate, expected_return, cov):\n",
    "    n = expected_return.shape[0]\n",
    "    initialguess = np.repeat(1/n, n)\n",
    "    bounds = ((0.0,1.0),)*n\n",
    "    weights_equal_1 = {\n",
    "        'type': 'eq',\n",
    "        'fun': lambda weights: np.sum(weights) -1\n",
    "    }\n",
    "    def negativesharperatio(weights, expected_return, riskfree_rate, cov):\n",
    "        r = portfolio_return(weights, expected_return)\n",
    "        vol = portfolio_vol(weights, cov)\n",
    "        return -(r-riskfree_rate)/vol\n",
    "    answer = minimize(negativesharperatio, \n",
    "                       initialguess, \n",
    "                       args=(expected_return, riskfree_rate, cov,),\n",
    "                       method = \"SLSQP\",\n",
    "                       options = {'disp': False}, \n",
    "                       constraints = (weights_equal_1),\n",
    "                       bounds = bounds\n",
    "                      )\n",
    "    return answer.x"
   ]
  },
  {
   "cell_type": "code",
   "execution_count": 82,
   "id": "7b5e80f2",
   "metadata": {},
   "outputs": [],
   "source": [
    "weight_msr = maximized_sharpe_ratio(0.1, annualized_returns1317, cov1317)\n",
    "return_msr = portfolio_return(weight_msr, annualized_returns1317)\n",
    "vol_msr = portfolio_vol(weight_msr, cov1317)"
   ]
  },
  {
   "cell_type": "code",
   "execution_count": 83,
   "id": "d812915c",
   "metadata": {},
   "outputs": [],
   "source": [
    "#GMV Weight\n",
    "def global_minimum_volatility(cov):\n",
    "    return maximized_sharpe_ratio(0, np.repeat(1, cov.shape[0]), cov)"
   ]
  },
  {
   "cell_type": "code",
   "execution_count": 84,
   "id": "72d3e0b3",
   "metadata": {},
   "outputs": [],
   "source": [
    "weights_gmv = global_minimum_volatility(cov1317)\n",
    "vol_gmv = portfolio_vol(weights_gmv, cov1317)\n",
    "returns_gmv = portfolio_return(weights_gmv, annualized_returns1317)"
   ]
  },
  {
   "cell_type": "code",
   "execution_count": 85,
   "id": "357c80f8",
   "metadata": {},
   "outputs": [
    {
     "data": {
      "text/plain": [
       "[<matplotlib.lines.Line2D at 0x7fc3cfc7f7f0>]"
      ]
     },
     "execution_count": 85,
     "metadata": {},
     "output_type": "execute_result"
    },
    {
     "data": {
      "image/png": "[encoded data removed]",
      "text/plain": [
       "<Figure size 432x288 with 1 Axes>"
      ]
     },
     "metadata": {
      "needs_background": "light"
     },
     "output_type": "display_data"
    }
   ],
   "source": [
    "ax = plot_efficient_frontier(20, annualized_returns1317, cov1317)\n",
    "ax.set_xlim(left = 0)\n",
    "ax.plot([0,vol_msr], [0.1,return_msr])\n",
    "ax.plot([vol_gmv], [returns_gmv], marker = 'o', markersize = 10)"
   ]
  },
  {
   "cell_type": "code",
   "execution_count": 86,
   "id": "42c01f76",
   "metadata": {},
   "outputs": [
    {
     "data": {
      "text/plain": [
       "array([0.00000000e+00, 1.00000000e+00, 2.08166817e-17, 6.01949046e-16])"
      ]
     },
     "execution_count": 86,
     "metadata": {},
     "output_type": "execute_result"
    }
   ],
   "source": [
    "weight_msr"
   ]
  },
  {
   "cell_type": "code",
   "execution_count": 87,
   "id": "8294a648",
   "metadata": {},
   "outputs": [
    {
     "data": {
      "text/plain": [
       "array([0.47702487, 0.        , 0.43411203, 0.0888631 ])"
      ]
     },
     "execution_count": 87,
     "metadata": {},
     "output_type": "execute_result"
    }
   ],
   "source": [
    "weights_gmv"
   ]
  },
  {
   "cell_type": "code",
   "execution_count": 88,
   "id": "cad922fe",
   "metadata": {},
   "outputs": [
    {
     "data": {
      "text/plain": [
       "'Books'"
      ]
     },
     "execution_count": 88,
     "metadata": {},
     "output_type": "execute_result"
    }
   ],
   "source": [
    "returns1317.columns[0]"
   ]
  },
  {
   "cell_type": "code",
   "execution_count": 89,
   "id": "678985bb",
   "metadata": {},
   "outputs": [
    {
     "data": {
      "text/plain": [
       "0.21983988181484188"
      ]
     },
     "execution_count": 89,
     "metadata": {},
     "output_type": "execute_result"
    }
   ],
   "source": [
    "ind18 = ind[\"2018\":]\n",
    "ind18 = ind18[[\"Books\",\"Steel\",\"Oil\",\"Mines\"]]\n",
    "annual_return18 = (ind+1).prod()**(12/12)-1\n",
    "cov18 = ind18.cov()\n",
    "vol_msr = portfolio_vol(weight_msr, cov18)\n",
    "annual_volatility_msr = vol_msr*np.sqrt(12)\n",
    "annual_volatility_msr"
   ]
  },
  {
   "cell_type": "code",
   "execution_count": 90,
   "id": "0cfdb613",
   "metadata": {},
   "outputs": [
    {
     "data": {
      "text/plain": [
       "0.18973734520184568"
      ]
     },
     "execution_count": 90,
     "metadata": {},
     "output_type": "execute_result"
    }
   ],
   "source": [
    "vol_gmv = portfolio_vol(weights_gmv, cov18)\n",
    "annual_volatility_gmv = vol_gmv*np.sqrt(12)\n",
    "annual_volatility_gmv"
   ]
  }
 ],
 "metadata": {
  "kernelspec": {
   "display_name": "Python 3",
   "language": "python",
   "name": "python3"
  },
  "language_info": {
   "codemirror_mode": {
    "name": "ipython",
    "version": 3
   },
   "file_extension": ".py",
   "mimetype": "text/x-python",
   "name": "python",
   "nbconvert_exporter": "python",
   "pygments_lexer": "ipython3",
   "version": "3.8.8"
  }
 },
 "nbformat": 4,
 "nbformat_minor": 5
}
